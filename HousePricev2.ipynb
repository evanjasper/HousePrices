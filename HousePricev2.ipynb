{
 "cells": [
  {
   "cell_type": "code",
   "execution_count": 1,
   "metadata": {},
   "outputs": [],
   "source": [
    "import pandas as pd\n",
    "import numpy as np\n",
    "import copy"
   ]
  },
  {
   "cell_type": "code",
   "execution_count": 2,
   "metadata": {},
   "outputs": [],
   "source": [
    "# This makes pandas display the full dataframe\n",
    "pd.set_option('display.max_columns', None)\n",
    "pd.set_option('display.max_rows', None)"
   ]
  },
  {
   "cell_type": "markdown",
   "metadata": {},
   "source": [
    "# This section is manipulating and recasting data"
   ]
  },
  {
   "cell_type": "markdown",
   "metadata": {},
   "source": [
    "### Load data"
   ]
  },
  {
   "cell_type": "code",
   "execution_count": 3,
   "metadata": {},
   "outputs": [],
   "source": [
    "hptrain = pd.read_csv(\"./train.csv\")\n",
    "hptest = pd.read_csv(\"./test.csv\")"
   ]
  },
  {
   "cell_type": "code",
   "execution_count": 4,
   "metadata": {},
   "outputs": [],
   "source": [
    "hptrain.describe();"
   ]
  },
  {
   "cell_type": "code",
   "execution_count": 5,
   "metadata": {},
   "outputs": [],
   "source": [
    "trainprice = hptrain[\"SalePrice\"]\n",
    "#testprice = hptest[\"SalePrice\"] \n",
    "# This data is not included in the dataset and presumably needs to be uploaded to check for accuracy"
   ]
  },
  {
   "cell_type": "code",
   "execution_count": 6,
   "metadata": {},
   "outputs": [],
   "source": [
    "hptrain.dtypes;"
   ]
  },
  {
   "cell_type": "code",
   "execution_count": 7,
   "metadata": {},
   "outputs": [],
   "source": [
    "idtrain = hptrain['Id']\n",
    "idtest = hptest['Id']\n",
    "hptrain = hptrain.drop([\"Id\",\"SalePrice\"],axis = 1);\n",
    "hptest = hptest.drop(columns=\"Id\",axis = 1)"
   ]
  },
  {
   "cell_type": "markdown",
   "metadata": {},
   "source": [
    "##### Combine train and test into one set"
   ]
  },
  {
   "cell_type": "code",
   "execution_count": 8,
   "metadata": {
    "scrolled": false
   },
   "outputs": [
    {
     "data": {
      "text/html": [
       "<div>\n",
       "<style scoped>\n",
       "    .dataframe tbody tr th:only-of-type {\n",
       "        vertical-align: middle;\n",
       "    }\n",
       "\n",
       "    .dataframe tbody tr th {\n",
       "        vertical-align: top;\n",
       "    }\n",
       "\n",
       "    .dataframe thead th {\n",
       "        text-align: right;\n",
       "    }\n",
       "</style>\n",
       "<table border=\"1\" class=\"dataframe\">\n",
       "  <thead>\n",
       "    <tr style=\"text-align: right;\">\n",
       "      <th></th>\n",
       "      <th>MSSubClass</th>\n",
       "      <th>MSZoning</th>\n",
       "      <th>LotFrontage</th>\n",
       "      <th>LotArea</th>\n",
       "      <th>Street</th>\n",
       "      <th>Alley</th>\n",
       "      <th>LotShape</th>\n",
       "      <th>LandContour</th>\n",
       "      <th>Utilities</th>\n",
       "      <th>LotConfig</th>\n",
       "      <th>LandSlope</th>\n",
       "      <th>Neighborhood</th>\n",
       "      <th>Condition1</th>\n",
       "      <th>Condition2</th>\n",
       "      <th>BldgType</th>\n",
       "      <th>HouseStyle</th>\n",
       "      <th>OverallQual</th>\n",
       "      <th>OverallCond</th>\n",
       "      <th>YearBuilt</th>\n",
       "      <th>YearRemodAdd</th>\n",
       "      <th>RoofStyle</th>\n",
       "      <th>RoofMatl</th>\n",
       "      <th>Exterior1st</th>\n",
       "      <th>Exterior2nd</th>\n",
       "      <th>MasVnrType</th>\n",
       "      <th>MasVnrArea</th>\n",
       "      <th>ExterQual</th>\n",
       "      <th>ExterCond</th>\n",
       "      <th>Foundation</th>\n",
       "      <th>BsmtQual</th>\n",
       "      <th>BsmtCond</th>\n",
       "      <th>BsmtExposure</th>\n",
       "      <th>BsmtFinType1</th>\n",
       "      <th>BsmtFinSF1</th>\n",
       "      <th>BsmtFinType2</th>\n",
       "      <th>BsmtFinSF2</th>\n",
       "      <th>BsmtUnfSF</th>\n",
       "      <th>TotalBsmtSF</th>\n",
       "      <th>Heating</th>\n",
       "      <th>HeatingQC</th>\n",
       "      <th>CentralAir</th>\n",
       "      <th>Electrical</th>\n",
       "      <th>1stFlrSF</th>\n",
       "      <th>2ndFlrSF</th>\n",
       "      <th>LowQualFinSF</th>\n",
       "      <th>GrLivArea</th>\n",
       "      <th>BsmtFullBath</th>\n",
       "      <th>BsmtHalfBath</th>\n",
       "      <th>FullBath</th>\n",
       "      <th>HalfBath</th>\n",
       "      <th>BedroomAbvGr</th>\n",
       "      <th>KitchenAbvGr</th>\n",
       "      <th>KitchenQual</th>\n",
       "      <th>TotRmsAbvGrd</th>\n",
       "      <th>Functional</th>\n",
       "      <th>Fireplaces</th>\n",
       "      <th>FireplaceQu</th>\n",
       "      <th>GarageType</th>\n",
       "      <th>GarageYrBlt</th>\n",
       "      <th>GarageFinish</th>\n",
       "      <th>GarageCars</th>\n",
       "      <th>GarageArea</th>\n",
       "      <th>GarageQual</th>\n",
       "      <th>GarageCond</th>\n",
       "      <th>PavedDrive</th>\n",
       "      <th>WoodDeckSF</th>\n",
       "      <th>OpenPorchSF</th>\n",
       "      <th>EnclosedPorch</th>\n",
       "      <th>3SsnPorch</th>\n",
       "      <th>ScreenPorch</th>\n",
       "      <th>PoolArea</th>\n",
       "      <th>PoolQC</th>\n",
       "      <th>Fence</th>\n",
       "      <th>MiscFeature</th>\n",
       "      <th>MiscVal</th>\n",
       "      <th>MoSold</th>\n",
       "      <th>YrSold</th>\n",
       "      <th>SaleType</th>\n",
       "      <th>SaleCondition</th>\n",
       "    </tr>\n",
       "  </thead>\n",
       "  <tbody>\n",
       "    <tr>\n",
       "      <td>2914</td>\n",
       "      <td>160</td>\n",
       "      <td>RM</td>\n",
       "      <td>21.0</td>\n",
       "      <td>1936</td>\n",
       "      <td>Pave</td>\n",
       "      <td>NaN</td>\n",
       "      <td>Reg</td>\n",
       "      <td>Lvl</td>\n",
       "      <td>AllPub</td>\n",
       "      <td>Inside</td>\n",
       "      <td>Gtl</td>\n",
       "      <td>MeadowV</td>\n",
       "      <td>Norm</td>\n",
       "      <td>Norm</td>\n",
       "      <td>Twnhs</td>\n",
       "      <td>2Story</td>\n",
       "      <td>4</td>\n",
       "      <td>7</td>\n",
       "      <td>1970</td>\n",
       "      <td>1970</td>\n",
       "      <td>Gable</td>\n",
       "      <td>CompShg</td>\n",
       "      <td>CemntBd</td>\n",
       "      <td>CmentBd</td>\n",
       "      <td>None</td>\n",
       "      <td>0.0</td>\n",
       "      <td>TA</td>\n",
       "      <td>TA</td>\n",
       "      <td>CBlock</td>\n",
       "      <td>TA</td>\n",
       "      <td>TA</td>\n",
       "      <td>No</td>\n",
       "      <td>Unf</td>\n",
       "      <td>0.0</td>\n",
       "      <td>Unf</td>\n",
       "      <td>0.0</td>\n",
       "      <td>546.0</td>\n",
       "      <td>546.0</td>\n",
       "      <td>GasA</td>\n",
       "      <td>Gd</td>\n",
       "      <td>Y</td>\n",
       "      <td>SBrkr</td>\n",
       "      <td>546</td>\n",
       "      <td>546</td>\n",
       "      <td>0</td>\n",
       "      <td>1092</td>\n",
       "      <td>0.0</td>\n",
       "      <td>0.0</td>\n",
       "      <td>1</td>\n",
       "      <td>1</td>\n",
       "      <td>3</td>\n",
       "      <td>1</td>\n",
       "      <td>TA</td>\n",
       "      <td>5</td>\n",
       "      <td>Typ</td>\n",
       "      <td>0</td>\n",
       "      <td>NaN</td>\n",
       "      <td>NaN</td>\n",
       "      <td>NaN</td>\n",
       "      <td>NaN</td>\n",
       "      <td>0.0</td>\n",
       "      <td>0.0</td>\n",
       "      <td>NaN</td>\n",
       "      <td>NaN</td>\n",
       "      <td>Y</td>\n",
       "      <td>0</td>\n",
       "      <td>0</td>\n",
       "      <td>0</td>\n",
       "      <td>0</td>\n",
       "      <td>0</td>\n",
       "      <td>0</td>\n",
       "      <td>NaN</td>\n",
       "      <td>NaN</td>\n",
       "      <td>NaN</td>\n",
       "      <td>0</td>\n",
       "      <td>6</td>\n",
       "      <td>2006</td>\n",
       "      <td>WD</td>\n",
       "      <td>Normal</td>\n",
       "    </tr>\n",
       "    <tr>\n",
       "      <td>2915</td>\n",
       "      <td>160</td>\n",
       "      <td>RM</td>\n",
       "      <td>21.0</td>\n",
       "      <td>1894</td>\n",
       "      <td>Pave</td>\n",
       "      <td>NaN</td>\n",
       "      <td>Reg</td>\n",
       "      <td>Lvl</td>\n",
       "      <td>AllPub</td>\n",
       "      <td>Inside</td>\n",
       "      <td>Gtl</td>\n",
       "      <td>MeadowV</td>\n",
       "      <td>Norm</td>\n",
       "      <td>Norm</td>\n",
       "      <td>TwnhsE</td>\n",
       "      <td>2Story</td>\n",
       "      <td>4</td>\n",
       "      <td>5</td>\n",
       "      <td>1970</td>\n",
       "      <td>1970</td>\n",
       "      <td>Gable</td>\n",
       "      <td>CompShg</td>\n",
       "      <td>CemntBd</td>\n",
       "      <td>CmentBd</td>\n",
       "      <td>None</td>\n",
       "      <td>0.0</td>\n",
       "      <td>TA</td>\n",
       "      <td>TA</td>\n",
       "      <td>CBlock</td>\n",
       "      <td>TA</td>\n",
       "      <td>TA</td>\n",
       "      <td>No</td>\n",
       "      <td>Rec</td>\n",
       "      <td>252.0</td>\n",
       "      <td>Unf</td>\n",
       "      <td>0.0</td>\n",
       "      <td>294.0</td>\n",
       "      <td>546.0</td>\n",
       "      <td>GasA</td>\n",
       "      <td>TA</td>\n",
       "      <td>Y</td>\n",
       "      <td>SBrkr</td>\n",
       "      <td>546</td>\n",
       "      <td>546</td>\n",
       "      <td>0</td>\n",
       "      <td>1092</td>\n",
       "      <td>0.0</td>\n",
       "      <td>0.0</td>\n",
       "      <td>1</td>\n",
       "      <td>1</td>\n",
       "      <td>3</td>\n",
       "      <td>1</td>\n",
       "      <td>TA</td>\n",
       "      <td>6</td>\n",
       "      <td>Typ</td>\n",
       "      <td>0</td>\n",
       "      <td>NaN</td>\n",
       "      <td>CarPort</td>\n",
       "      <td>1970.0</td>\n",
       "      <td>Unf</td>\n",
       "      <td>1.0</td>\n",
       "      <td>286.0</td>\n",
       "      <td>TA</td>\n",
       "      <td>TA</td>\n",
       "      <td>Y</td>\n",
       "      <td>0</td>\n",
       "      <td>24</td>\n",
       "      <td>0</td>\n",
       "      <td>0</td>\n",
       "      <td>0</td>\n",
       "      <td>0</td>\n",
       "      <td>NaN</td>\n",
       "      <td>NaN</td>\n",
       "      <td>NaN</td>\n",
       "      <td>0</td>\n",
       "      <td>4</td>\n",
       "      <td>2006</td>\n",
       "      <td>WD</td>\n",
       "      <td>Abnorml</td>\n",
       "    </tr>\n",
       "    <tr>\n",
       "      <td>2916</td>\n",
       "      <td>20</td>\n",
       "      <td>RL</td>\n",
       "      <td>160.0</td>\n",
       "      <td>20000</td>\n",
       "      <td>Pave</td>\n",
       "      <td>NaN</td>\n",
       "      <td>Reg</td>\n",
       "      <td>Lvl</td>\n",
       "      <td>AllPub</td>\n",
       "      <td>Inside</td>\n",
       "      <td>Gtl</td>\n",
       "      <td>Mitchel</td>\n",
       "      <td>Norm</td>\n",
       "      <td>Norm</td>\n",
       "      <td>1Fam</td>\n",
       "      <td>1Story</td>\n",
       "      <td>5</td>\n",
       "      <td>7</td>\n",
       "      <td>1960</td>\n",
       "      <td>1996</td>\n",
       "      <td>Gable</td>\n",
       "      <td>CompShg</td>\n",
       "      <td>VinylSd</td>\n",
       "      <td>VinylSd</td>\n",
       "      <td>None</td>\n",
       "      <td>0.0</td>\n",
       "      <td>TA</td>\n",
       "      <td>TA</td>\n",
       "      <td>CBlock</td>\n",
       "      <td>TA</td>\n",
       "      <td>TA</td>\n",
       "      <td>No</td>\n",
       "      <td>ALQ</td>\n",
       "      <td>1224.0</td>\n",
       "      <td>Unf</td>\n",
       "      <td>0.0</td>\n",
       "      <td>0.0</td>\n",
       "      <td>1224.0</td>\n",
       "      <td>GasA</td>\n",
       "      <td>Ex</td>\n",
       "      <td>Y</td>\n",
       "      <td>SBrkr</td>\n",
       "      <td>1224</td>\n",
       "      <td>0</td>\n",
       "      <td>0</td>\n",
       "      <td>1224</td>\n",
       "      <td>1.0</td>\n",
       "      <td>0.0</td>\n",
       "      <td>1</td>\n",
       "      <td>0</td>\n",
       "      <td>4</td>\n",
       "      <td>1</td>\n",
       "      <td>TA</td>\n",
       "      <td>7</td>\n",
       "      <td>Typ</td>\n",
       "      <td>1</td>\n",
       "      <td>TA</td>\n",
       "      <td>Detchd</td>\n",
       "      <td>1960.0</td>\n",
       "      <td>Unf</td>\n",
       "      <td>2.0</td>\n",
       "      <td>576.0</td>\n",
       "      <td>TA</td>\n",
       "      <td>TA</td>\n",
       "      <td>Y</td>\n",
       "      <td>474</td>\n",
       "      <td>0</td>\n",
       "      <td>0</td>\n",
       "      <td>0</td>\n",
       "      <td>0</td>\n",
       "      <td>0</td>\n",
       "      <td>NaN</td>\n",
       "      <td>NaN</td>\n",
       "      <td>NaN</td>\n",
       "      <td>0</td>\n",
       "      <td>9</td>\n",
       "      <td>2006</td>\n",
       "      <td>WD</td>\n",
       "      <td>Abnorml</td>\n",
       "    </tr>\n",
       "    <tr>\n",
       "      <td>2917</td>\n",
       "      <td>85</td>\n",
       "      <td>RL</td>\n",
       "      <td>62.0</td>\n",
       "      <td>10441</td>\n",
       "      <td>Pave</td>\n",
       "      <td>NaN</td>\n",
       "      <td>Reg</td>\n",
       "      <td>Lvl</td>\n",
       "      <td>AllPub</td>\n",
       "      <td>Inside</td>\n",
       "      <td>Gtl</td>\n",
       "      <td>Mitchel</td>\n",
       "      <td>Norm</td>\n",
       "      <td>Norm</td>\n",
       "      <td>1Fam</td>\n",
       "      <td>SFoyer</td>\n",
       "      <td>5</td>\n",
       "      <td>5</td>\n",
       "      <td>1992</td>\n",
       "      <td>1992</td>\n",
       "      <td>Gable</td>\n",
       "      <td>CompShg</td>\n",
       "      <td>HdBoard</td>\n",
       "      <td>Wd Shng</td>\n",
       "      <td>None</td>\n",
       "      <td>0.0</td>\n",
       "      <td>TA</td>\n",
       "      <td>TA</td>\n",
       "      <td>PConc</td>\n",
       "      <td>Gd</td>\n",
       "      <td>TA</td>\n",
       "      <td>Av</td>\n",
       "      <td>GLQ</td>\n",
       "      <td>337.0</td>\n",
       "      <td>Unf</td>\n",
       "      <td>0.0</td>\n",
       "      <td>575.0</td>\n",
       "      <td>912.0</td>\n",
       "      <td>GasA</td>\n",
       "      <td>TA</td>\n",
       "      <td>Y</td>\n",
       "      <td>SBrkr</td>\n",
       "      <td>970</td>\n",
       "      <td>0</td>\n",
       "      <td>0</td>\n",
       "      <td>970</td>\n",
       "      <td>0.0</td>\n",
       "      <td>1.0</td>\n",
       "      <td>1</td>\n",
       "      <td>0</td>\n",
       "      <td>3</td>\n",
       "      <td>1</td>\n",
       "      <td>TA</td>\n",
       "      <td>6</td>\n",
       "      <td>Typ</td>\n",
       "      <td>0</td>\n",
       "      <td>NaN</td>\n",
       "      <td>NaN</td>\n",
       "      <td>NaN</td>\n",
       "      <td>NaN</td>\n",
       "      <td>0.0</td>\n",
       "      <td>0.0</td>\n",
       "      <td>NaN</td>\n",
       "      <td>NaN</td>\n",
       "      <td>Y</td>\n",
       "      <td>80</td>\n",
       "      <td>32</td>\n",
       "      <td>0</td>\n",
       "      <td>0</td>\n",
       "      <td>0</td>\n",
       "      <td>0</td>\n",
       "      <td>NaN</td>\n",
       "      <td>MnPrv</td>\n",
       "      <td>Shed</td>\n",
       "      <td>700</td>\n",
       "      <td>7</td>\n",
       "      <td>2006</td>\n",
       "      <td>WD</td>\n",
       "      <td>Normal</td>\n",
       "    </tr>\n",
       "    <tr>\n",
       "      <td>2918</td>\n",
       "      <td>60</td>\n",
       "      <td>RL</td>\n",
       "      <td>74.0</td>\n",
       "      <td>9627</td>\n",
       "      <td>Pave</td>\n",
       "      <td>NaN</td>\n",
       "      <td>Reg</td>\n",
       "      <td>Lvl</td>\n",
       "      <td>AllPub</td>\n",
       "      <td>Inside</td>\n",
       "      <td>Mod</td>\n",
       "      <td>Mitchel</td>\n",
       "      <td>Norm</td>\n",
       "      <td>Norm</td>\n",
       "      <td>1Fam</td>\n",
       "      <td>2Story</td>\n",
       "      <td>7</td>\n",
       "      <td>5</td>\n",
       "      <td>1993</td>\n",
       "      <td>1994</td>\n",
       "      <td>Gable</td>\n",
       "      <td>CompShg</td>\n",
       "      <td>HdBoard</td>\n",
       "      <td>HdBoard</td>\n",
       "      <td>BrkFace</td>\n",
       "      <td>94.0</td>\n",
       "      <td>TA</td>\n",
       "      <td>TA</td>\n",
       "      <td>PConc</td>\n",
       "      <td>Gd</td>\n",
       "      <td>TA</td>\n",
       "      <td>Av</td>\n",
       "      <td>LwQ</td>\n",
       "      <td>758.0</td>\n",
       "      <td>Unf</td>\n",
       "      <td>0.0</td>\n",
       "      <td>238.0</td>\n",
       "      <td>996.0</td>\n",
       "      <td>GasA</td>\n",
       "      <td>Ex</td>\n",
       "      <td>Y</td>\n",
       "      <td>SBrkr</td>\n",
       "      <td>996</td>\n",
       "      <td>1004</td>\n",
       "      <td>0</td>\n",
       "      <td>2000</td>\n",
       "      <td>0.0</td>\n",
       "      <td>0.0</td>\n",
       "      <td>2</td>\n",
       "      <td>1</td>\n",
       "      <td>3</td>\n",
       "      <td>1</td>\n",
       "      <td>TA</td>\n",
       "      <td>9</td>\n",
       "      <td>Typ</td>\n",
       "      <td>1</td>\n",
       "      <td>TA</td>\n",
       "      <td>Attchd</td>\n",
       "      <td>1993.0</td>\n",
       "      <td>Fin</td>\n",
       "      <td>3.0</td>\n",
       "      <td>650.0</td>\n",
       "      <td>TA</td>\n",
       "      <td>TA</td>\n",
       "      <td>Y</td>\n",
       "      <td>190</td>\n",
       "      <td>48</td>\n",
       "      <td>0</td>\n",
       "      <td>0</td>\n",
       "      <td>0</td>\n",
       "      <td>0</td>\n",
       "      <td>NaN</td>\n",
       "      <td>NaN</td>\n",
       "      <td>NaN</td>\n",
       "      <td>0</td>\n",
       "      <td>11</td>\n",
       "      <td>2006</td>\n",
       "      <td>WD</td>\n",
       "      <td>Normal</td>\n",
       "    </tr>\n",
       "  </tbody>\n",
       "</table>\n",
       "</div>"
      ],
      "text/plain": [
       "      MSSubClass MSZoning  LotFrontage  LotArea Street Alley LotShape  \\\n",
       "2914         160       RM         21.0     1936   Pave   NaN      Reg   \n",
       "2915         160       RM         21.0     1894   Pave   NaN      Reg   \n",
       "2916          20       RL        160.0    20000   Pave   NaN      Reg   \n",
       "2917          85       RL         62.0    10441   Pave   NaN      Reg   \n",
       "2918          60       RL         74.0     9627   Pave   NaN      Reg   \n",
       "\n",
       "     LandContour Utilities LotConfig LandSlope Neighborhood Condition1  \\\n",
       "2914         Lvl    AllPub    Inside       Gtl      MeadowV       Norm   \n",
       "2915         Lvl    AllPub    Inside       Gtl      MeadowV       Norm   \n",
       "2916         Lvl    AllPub    Inside       Gtl      Mitchel       Norm   \n",
       "2917         Lvl    AllPub    Inside       Gtl      Mitchel       Norm   \n",
       "2918         Lvl    AllPub    Inside       Mod      Mitchel       Norm   \n",
       "\n",
       "     Condition2 BldgType HouseStyle  OverallQual  OverallCond  YearBuilt  \\\n",
       "2914       Norm    Twnhs     2Story            4            7       1970   \n",
       "2915       Norm   TwnhsE     2Story            4            5       1970   \n",
       "2916       Norm     1Fam     1Story            5            7       1960   \n",
       "2917       Norm     1Fam     SFoyer            5            5       1992   \n",
       "2918       Norm     1Fam     2Story            7            5       1993   \n",
       "\n",
       "      YearRemodAdd RoofStyle RoofMatl Exterior1st Exterior2nd MasVnrType  \\\n",
       "2914          1970     Gable  CompShg     CemntBd     CmentBd       None   \n",
       "2915          1970     Gable  CompShg     CemntBd     CmentBd       None   \n",
       "2916          1996     Gable  CompShg     VinylSd     VinylSd       None   \n",
       "2917          1992     Gable  CompShg     HdBoard     Wd Shng       None   \n",
       "2918          1994     Gable  CompShg     HdBoard     HdBoard    BrkFace   \n",
       "\n",
       "      MasVnrArea ExterQual ExterCond Foundation BsmtQual BsmtCond  \\\n",
       "2914         0.0        TA        TA     CBlock       TA       TA   \n",
       "2915         0.0        TA        TA     CBlock       TA       TA   \n",
       "2916         0.0        TA        TA     CBlock       TA       TA   \n",
       "2917         0.0        TA        TA      PConc       Gd       TA   \n",
       "2918        94.0        TA        TA      PConc       Gd       TA   \n",
       "\n",
       "     BsmtExposure BsmtFinType1  BsmtFinSF1 BsmtFinType2  BsmtFinSF2  \\\n",
       "2914           No          Unf         0.0          Unf         0.0   \n",
       "2915           No          Rec       252.0          Unf         0.0   \n",
       "2916           No          ALQ      1224.0          Unf         0.0   \n",
       "2917           Av          GLQ       337.0          Unf         0.0   \n",
       "2918           Av          LwQ       758.0          Unf         0.0   \n",
       "\n",
       "      BsmtUnfSF  TotalBsmtSF Heating HeatingQC CentralAir Electrical  \\\n",
       "2914      546.0        546.0    GasA        Gd          Y      SBrkr   \n",
       "2915      294.0        546.0    GasA        TA          Y      SBrkr   \n",
       "2916        0.0       1224.0    GasA        Ex          Y      SBrkr   \n",
       "2917      575.0        912.0    GasA        TA          Y      SBrkr   \n",
       "2918      238.0        996.0    GasA        Ex          Y      SBrkr   \n",
       "\n",
       "      1stFlrSF  2ndFlrSF  LowQualFinSF  GrLivArea  BsmtFullBath  BsmtHalfBath  \\\n",
       "2914       546       546             0       1092           0.0           0.0   \n",
       "2915       546       546             0       1092           0.0           0.0   \n",
       "2916      1224         0             0       1224           1.0           0.0   \n",
       "2917       970         0             0        970           0.0           1.0   \n",
       "2918       996      1004             0       2000           0.0           0.0   \n",
       "\n",
       "      FullBath  HalfBath  BedroomAbvGr  KitchenAbvGr KitchenQual  \\\n",
       "2914         1         1             3             1          TA   \n",
       "2915         1         1             3             1          TA   \n",
       "2916         1         0             4             1          TA   \n",
       "2917         1         0             3             1          TA   \n",
       "2918         2         1             3             1          TA   \n",
       "\n",
       "      TotRmsAbvGrd Functional  Fireplaces FireplaceQu GarageType  GarageYrBlt  \\\n",
       "2914             5        Typ           0         NaN        NaN          NaN   \n",
       "2915             6        Typ           0         NaN    CarPort       1970.0   \n",
       "2916             7        Typ           1          TA     Detchd       1960.0   \n",
       "2917             6        Typ           0         NaN        NaN          NaN   \n",
       "2918             9        Typ           1          TA     Attchd       1993.0   \n",
       "\n",
       "     GarageFinish  GarageCars  GarageArea GarageQual GarageCond PavedDrive  \\\n",
       "2914          NaN         0.0         0.0        NaN        NaN          Y   \n",
       "2915          Unf         1.0       286.0         TA         TA          Y   \n",
       "2916          Unf         2.0       576.0         TA         TA          Y   \n",
       "2917          NaN         0.0         0.0        NaN        NaN          Y   \n",
       "2918          Fin         3.0       650.0         TA         TA          Y   \n",
       "\n",
       "      WoodDeckSF  OpenPorchSF  EnclosedPorch  3SsnPorch  ScreenPorch  \\\n",
       "2914           0            0              0          0            0   \n",
       "2915           0           24              0          0            0   \n",
       "2916         474            0              0          0            0   \n",
       "2917          80           32              0          0            0   \n",
       "2918         190           48              0          0            0   \n",
       "\n",
       "      PoolArea PoolQC  Fence MiscFeature  MiscVal  MoSold  YrSold SaleType  \\\n",
       "2914         0    NaN    NaN         NaN        0       6    2006       WD   \n",
       "2915         0    NaN    NaN         NaN        0       4    2006       WD   \n",
       "2916         0    NaN    NaN         NaN        0       9    2006       WD   \n",
       "2917         0    NaN  MnPrv        Shed      700       7    2006       WD   \n",
       "2918         0    NaN    NaN         NaN        0      11    2006       WD   \n",
       "\n",
       "     SaleCondition  \n",
       "2914        Normal  \n",
       "2915       Abnorml  \n",
       "2916       Abnorml  \n",
       "2917        Normal  \n",
       "2918        Normal  "
      ]
     },
     "execution_count": 8,
     "metadata": {},
     "output_type": "execute_result"
    }
   ],
   "source": [
    "hpall = pd.concat([hptrain,hptest],axis = 0,ignore_index=True)\n",
    "hpall.tail()"
   ]
  },
  {
   "cell_type": "code",
   "execution_count": 9,
   "metadata": {
    "scrolled": true
   },
   "outputs": [
    {
     "data": {
      "text/plain": [
       "MSSubClass         int64\n",
       "MSZoning          object\n",
       "LotFrontage      float64\n",
       "LotArea            int64\n",
       "Street            object\n",
       "Alley             object\n",
       "LotShape          object\n",
       "LandContour       object\n",
       "Utilities         object\n",
       "LotConfig         object\n",
       "LandSlope         object\n",
       "Neighborhood      object\n",
       "Condition1        object\n",
       "Condition2        object\n",
       "BldgType          object\n",
       "HouseStyle        object\n",
       "OverallQual        int64\n",
       "OverallCond        int64\n",
       "YearBuilt          int64\n",
       "YearRemodAdd       int64\n",
       "RoofStyle         object\n",
       "RoofMatl          object\n",
       "Exterior1st       object\n",
       "Exterior2nd       object\n",
       "MasVnrType        object\n",
       "MasVnrArea       float64\n",
       "ExterQual         object\n",
       "ExterCond         object\n",
       "Foundation        object\n",
       "BsmtQual          object\n",
       "BsmtCond          object\n",
       "BsmtExposure      object\n",
       "BsmtFinType1      object\n",
       "BsmtFinSF1       float64\n",
       "BsmtFinType2      object\n",
       "BsmtFinSF2       float64\n",
       "BsmtUnfSF        float64\n",
       "TotalBsmtSF      float64\n",
       "Heating           object\n",
       "HeatingQC         object\n",
       "CentralAir        object\n",
       "Electrical        object\n",
       "1stFlrSF           int64\n",
       "2ndFlrSF           int64\n",
       "LowQualFinSF       int64\n",
       "GrLivArea          int64\n",
       "BsmtFullBath     float64\n",
       "BsmtHalfBath     float64\n",
       "FullBath           int64\n",
       "HalfBath           int64\n",
       "BedroomAbvGr       int64\n",
       "KitchenAbvGr       int64\n",
       "KitchenQual       object\n",
       "TotRmsAbvGrd       int64\n",
       "Functional        object\n",
       "Fireplaces         int64\n",
       "FireplaceQu       object\n",
       "GarageType        object\n",
       "GarageYrBlt      float64\n",
       "GarageFinish      object\n",
       "GarageCars       float64\n",
       "GarageArea       float64\n",
       "GarageQual        object\n",
       "GarageCond        object\n",
       "PavedDrive        object\n",
       "WoodDeckSF         int64\n",
       "OpenPorchSF        int64\n",
       "EnclosedPorch      int64\n",
       "3SsnPorch          int64\n",
       "ScreenPorch        int64\n",
       "PoolArea           int64\n",
       "PoolQC            object\n",
       "Fence             object\n",
       "MiscFeature       object\n",
       "MiscVal            int64\n",
       "MoSold             int64\n",
       "YrSold             int64\n",
       "SaleType          object\n",
       "SaleCondition     object\n",
       "dtype: object"
      ]
     },
     "execution_count": 9,
     "metadata": {},
     "output_type": "execute_result"
    }
   ],
   "source": [
    "hpall.dtypes"
   ]
  },
  {
   "cell_type": "markdown",
   "metadata": {},
   "source": [
    "### Recast MSSubClass as string type instead of numerical"
   ]
  },
  {
   "cell_type": "code",
   "execution_count": 10,
   "metadata": {},
   "outputs": [],
   "source": [
    "hpall = hpall.astype({\"MSSubClass\":str})"
   ]
  },
  {
   "cell_type": "markdown",
   "metadata": {},
   "source": [
    "### Prepare to encode some categorical variables as dummy variables"
   ]
  },
  {
   "cell_type": "code",
   "execution_count": 11,
   "metadata": {},
   "outputs": [],
   "source": [
    "hpallcat = pd.get_dummies(hpall[['MSSubClass','MSZoning','LandContour',\"LotConfig\",\"Neighborhood\",\"Condition1\",\n",
    "                   \"Condition2\",\"BldgType\",\"HouseStyle\",\"RoofStyle\",\"RoofMatl\", \"Exterior1st\",\n",
    "                   \"Exterior2nd\",\"MasVnrType\",\"Foundation\",\"Heating\",\"CentralAir\",\"Electrical\",\n",
    "                   \"GarageType\",\"MiscFeature\",\"SaleType\",\"SaleCondition\"]],dummy_na=True)"
   ]
  },
  {
   "cell_type": "markdown",
   "metadata": {},
   "source": [
    "### Ordinal encoding on other non-numeric variables"
   ]
  },
  {
   "cell_type": "code",
   "execution_count": 12,
   "metadata": {},
   "outputs": [
    {
     "data": {
      "text/plain": [
       "Pave    2907\n",
       "Grvl      12\n",
       "Name: Street, dtype: int64"
      ]
     },
     "execution_count": 12,
     "metadata": {},
     "output_type": "execute_result"
    }
   ],
   "source": [
    "hpall[\"Street\"].value_counts(dropna=False) # I don't think \"Street\" will have much predictive power"
   ]
  },
  {
   "cell_type": "markdown",
   "metadata": {},
   "source": [
    "#### Determine which categorical variables have low variance (by eye)"
   ]
  },
  {
   "cell_type": "code",
   "execution_count": 13,
   "metadata": {
    "scrolled": true
   },
   "outputs": [],
   "source": [
    "hpall.columns;"
   ]
  },
  {
   "cell_type": "code",
   "execution_count": 14,
   "metadata": {
    "scrolled": false
   },
   "outputs": [
    {
     "data": {
      "text/plain": [
       "False"
      ]
     },
     "execution_count": 14,
     "metadata": {},
     "output_type": "execute_result"
    }
   ],
   "source": [
    "type(hpall['MiscFeature'][0]) == str"
   ]
  },
  {
   "cell_type": "code",
   "execution_count": 15,
   "metadata": {},
   "outputs": [
    {
     "data": {
      "text/plain": [
       "False"
      ]
     },
     "execution_count": 15,
     "metadata": {},
     "output_type": "execute_result"
    }
   ],
   "source": [
    "hpall['MiscFeature'].notna()[0]"
   ]
  },
  {
   "cell_type": "code",
   "execution_count": 16,
   "metadata": {},
   "outputs": [
    {
     "name": "stdout",
     "output_type": "stream",
     "text": [
      "20     1079\n",
      "60      575\n",
      "50      287\n",
      "120     182\n",
      "30      139\n",
      "160     128\n",
      "70      128\n",
      "80      118\n",
      "90      109\n",
      "190      61\n",
      "85       48\n",
      "75       23\n",
      "45       18\n",
      "180      17\n",
      "40        6\n",
      "150       1\n",
      "Name: MSSubClass, dtype: int64\n",
      "RL         2265\n",
      "RM          460\n",
      "FV          139\n",
      "RH           26\n",
      "C (all)      25\n",
      "NaN           4\n",
      "Name: MSZoning, dtype: int64\n",
      "Pave    2907\n",
      "Grvl      12\n",
      "Name: Street, dtype: int64\n",
      "Reg    1859\n",
      "IR1     968\n",
      "IR2      76\n",
      "IR3      16\n",
      "Name: LotShape, dtype: int64\n",
      "Lvl    2622\n",
      "HLS     120\n",
      "Bnk     117\n",
      "Low      60\n",
      "Name: LandContour, dtype: int64\n",
      "AllPub    2916\n",
      "NaN          2\n",
      "NoSeWa       1\n",
      "Name: Utilities, dtype: int64\n",
      "Inside     2133\n",
      "Corner      511\n",
      "CulDSac     176\n",
      "FR2          85\n",
      "FR3          14\n",
      "Name: LotConfig, dtype: int64\n",
      "Gtl    2778\n",
      "Mod     125\n",
      "Sev      16\n",
      "Name: LandSlope, dtype: int64\n",
      "NAmes      443\n",
      "CollgCr    267\n",
      "OldTown    239\n",
      "Edwards    194\n",
      "Somerst    182\n",
      "NridgHt    166\n",
      "Gilbert    165\n",
      "Sawyer     151\n",
      "NWAmes     131\n",
      "SawyerW    125\n",
      "Mitchel    114\n",
      "BrkSide    108\n",
      "Crawfor    103\n",
      "IDOTRR      93\n",
      "Timber      72\n",
      "NoRidge     71\n",
      "StoneBr     51\n",
      "SWISU       48\n",
      "ClearCr     44\n",
      "MeadowV     37\n",
      "BrDale      30\n",
      "Blmngtn     28\n",
      "Veenker     24\n",
      "NPkVill     23\n",
      "Blueste     10\n",
      "Name: Neighborhood, dtype: int64\n",
      "Norm      2511\n",
      "Feedr      164\n",
      "Artery      92\n",
      "RRAn        50\n",
      "PosN        39\n",
      "RRAe        28\n",
      "PosA        20\n",
      "RRNn         9\n",
      "RRNe         6\n",
      "Name: Condition1, dtype: int64\n",
      "Norm      2889\n",
      "Feedr       13\n",
      "Artery       5\n",
      "PosN         4\n",
      "PosA         4\n",
      "RRNn         2\n",
      "RRAn         1\n",
      "RRAe         1\n",
      "Name: Condition2, dtype: int64\n",
      "1Fam      2425\n",
      "TwnhsE     227\n",
      "Duplex     109\n",
      "Twnhs       96\n",
      "2fmCon      62\n",
      "Name: BldgType, dtype: int64\n",
      "1Story    1471\n",
      "2Story     872\n",
      "1.5Fin     314\n",
      "SLvl       128\n",
      "SFoyer      83\n",
      "2.5Unf      24\n",
      "1.5Unf      19\n",
      "2.5Fin       8\n",
      "Name: HouseStyle, dtype: int64\n",
      "Gable      2310\n",
      "Hip         551\n",
      "Gambrel      22\n",
      "Flat         20\n",
      "Mansard      11\n",
      "Shed          5\n",
      "Name: RoofStyle, dtype: int64\n",
      "CompShg    2876\n",
      "Tar&Grv      23\n",
      "WdShake       9\n",
      "WdShngl       7\n",
      "Roll          1\n",
      "Membran       1\n",
      "ClyTile       1\n",
      "Metal         1\n",
      "Name: RoofMatl, dtype: int64\n",
      "VinylSd    1025\n",
      "MetalSd     450\n",
      "HdBoard     442\n",
      "Wd Sdng     411\n",
      "Plywood     221\n",
      "CemntBd     126\n",
      "BrkFace      87\n",
      "WdShing      56\n",
      "AsbShng      44\n",
      "Stucco       43\n",
      "BrkComm       6\n",
      "AsphShn       2\n",
      "CBlock        2\n",
      "Stone         2\n",
      "ImStucc       1\n",
      "NaN           1\n",
      "Name: Exterior1st, dtype: int64\n",
      "VinylSd    1014\n",
      "MetalSd     447\n",
      "HdBoard     406\n",
      "Wd Sdng     391\n",
      "Plywood     270\n",
      "CmentBd     126\n",
      "Wd Shng      81\n",
      "BrkFace      47\n",
      "Stucco       47\n",
      "AsbShng      38\n",
      "Brk Cmn      22\n",
      "ImStucc      15\n",
      "Stone         6\n",
      "AsphShn       4\n",
      "CBlock        3\n",
      "Other         1\n",
      "NaN           1\n",
      "Name: Exterior2nd, dtype: int64\n",
      "None       1742\n",
      "BrkFace     879\n",
      "Stone       249\n",
      "BrkCmn       25\n",
      "NaN          24\n",
      "Name: MasVnrType, dtype: int64\n",
      "TA    1798\n",
      "Gd     979\n",
      "Ex     107\n",
      "Fa      35\n",
      "Name: ExterQual, dtype: int64\n",
      "TA    2538\n",
      "Gd     299\n",
      "Fa      67\n",
      "Ex      12\n",
      "Po       3\n",
      "Name: ExterCond, dtype: int64\n",
      "PConc     1308\n",
      "CBlock    1235\n",
      "BrkTil     311\n",
      "Slab        49\n",
      "Stone       11\n",
      "Wood         5\n",
      "Name: Foundation, dtype: int64\n",
      "TA     1283\n",
      "Gd     1209\n",
      "Ex      258\n",
      "Fa       88\n",
      "NaN      81\n",
      "Name: BsmtQual, dtype: int64\n",
      "TA     2606\n",
      "Gd      122\n",
      "Fa      104\n",
      "NaN      82\n",
      "Po        5\n",
      "Name: BsmtCond, dtype: int64\n",
      "No     1904\n",
      "Av      418\n",
      "Gd      276\n",
      "Mn      239\n",
      "NaN      82\n",
      "Name: BsmtExposure, dtype: int64\n",
      "Unf    851\n",
      "GLQ    849\n",
      "ALQ    429\n",
      "Rec    288\n",
      "BLQ    269\n",
      "LwQ    154\n",
      "NaN     79\n",
      "Name: BsmtFinType1, dtype: int64\n",
      "Unf    2493\n",
      "Rec     105\n",
      "LwQ      87\n",
      "NaN      80\n",
      "BLQ      68\n",
      "ALQ      52\n",
      "GLQ      34\n",
      "Name: BsmtFinType2, dtype: int64\n",
      "GasA     2874\n",
      "GasW       27\n",
      "Grav        9\n",
      "Wall        6\n",
      "OthW        2\n",
      "Floor       1\n",
      "Name: Heating, dtype: int64\n",
      "Ex    1493\n",
      "TA     857\n",
      "Gd     474\n",
      "Fa      92\n",
      "Po       3\n",
      "Name: HeatingQC, dtype: int64\n",
      "Y    2723\n",
      "N     196\n",
      "Name: CentralAir, dtype: int64\n",
      "SBrkr    2671\n",
      "FuseA     188\n",
      "FuseF      50\n",
      "FuseP       8\n",
      "Mix         1\n",
      "NaN         1\n",
      "Name: Electrical, dtype: int64\n",
      "TA     1492\n",
      "Gd     1151\n",
      "Ex      205\n",
      "Fa       70\n",
      "NaN       1\n",
      "Name: KitchenQual, dtype: int64\n",
      "Typ     2717\n",
      "Min2      70\n",
      "Min1      65\n",
      "Mod       35\n",
      "Maj1      19\n",
      "Maj2       9\n",
      "Sev        2\n",
      "NaN        2\n",
      "Name: Functional, dtype: int64\n",
      "Attchd     1723\n",
      "Detchd      779\n",
      "BuiltIn     186\n",
      "NaN         157\n",
      "Basment      36\n",
      "2Types       23\n",
      "CarPort      15\n",
      "Name: GarageType, dtype: int64\n",
      "Unf    1230\n",
      "RFn     811\n",
      "Fin     719\n",
      "NaN     159\n",
      "Name: GarageFinish, dtype: int64\n",
      "TA     2604\n",
      "NaN     159\n",
      "Fa      124\n",
      "Gd       24\n",
      "Po        5\n",
      "Ex        3\n",
      "Name: GarageQual, dtype: int64\n",
      "TA     2654\n",
      "NaN     159\n",
      "Fa       74\n",
      "Gd       15\n",
      "Po       14\n",
      "Ex        3\n",
      "Name: GarageCond, dtype: int64\n",
      "Y    2641\n",
      "N     216\n",
      "P      62\n",
      "Name: PavedDrive, dtype: int64\n",
      "NaN      2348\n",
      "MnPrv     329\n",
      "GdPrv     118\n",
      "GdWo      112\n",
      "MnWw       12\n",
      "Name: Fence, dtype: int64\n",
      "NaN     2814\n",
      "Shed      95\n",
      "Gar2       5\n",
      "Othr       4\n",
      "TenC       1\n",
      "Name: MiscFeature, dtype: int64\n",
      "WD       2525\n",
      "New       239\n",
      "COD        87\n",
      "ConLD      26\n",
      "CWD        12\n",
      "ConLI       9\n",
      "ConLw       8\n",
      "Oth         7\n",
      "Con         5\n",
      "NaN         1\n",
      "Name: SaleType, dtype: int64\n",
      "Normal     2402\n",
      "Partial     245\n",
      "Abnorml     190\n",
      "Family       46\n",
      "Alloca       24\n",
      "AdjLand      12\n",
      "Name: SaleCondition, dtype: int64\n"
     ]
    }
   ],
   "source": [
    "for i in hpall.columns:\n",
    "    j=0\n",
    "    while hpall['MiscFeature'].isna()[j]:\n",
    "        j+=1    \n",
    "    if type(hpall[i][j]) == str:\n",
    "        vc = hpall[i].value_counts(dropna=False)\n",
    "        print(vc)"
   ]
  },
  {
   "cell_type": "code",
   "execution_count": 17,
   "metadata": {
    "scrolled": true
   },
   "outputs": [
    {
     "data": {
      "text/plain": [
       "NaN     2721\n",
       "Grvl     120\n",
       "Pave      78\n",
       "Name: Alley, dtype: int64"
      ]
     },
     "execution_count": 17,
     "metadata": {},
     "output_type": "execute_result"
    }
   ],
   "source": [
    "hpall[\"Alley\"].value_counts(dropna = False)"
   ]
  },
  {
   "cell_type": "markdown",
   "metadata": {},
   "source": [
    "Remove: Street, Utilities.\n",
    "Maybe remove: Condition2, RoofMat1, Heating, MiscFeature"
   ]
  },
  {
   "cell_type": "code",
   "execution_count": 18,
   "metadata": {},
   "outputs": [],
   "source": [
    "hpall = hpall.drop([\"Street\",\"Utilities\"],axis = 1)"
   ]
  },
  {
   "cell_type": "code",
   "execution_count": 19,
   "metadata": {
    "scrolled": true
   },
   "outputs": [],
   "source": [
    "Alley = hpall[\"Alley\"].fillna(0).replace(['Grvl','Pave'],[1,2])\n",
    "LotShape = hpall[\"LotShape\"].replace(['Reg','IR1','IR2','IR3'],[0,1,2,3])\n",
    "LandSlope = hpall[\"LandSlope\"].replace(['Gtl','Mod','Sev'],[0,1,2])\n",
    "ExterQual = hpall['ExterQual'].replace(['Ex','Gd','TA','Fa','Po'],[0,1,2,3,4]).astype(int)\n",
    "ExterCond = hpall['ExterCond'].replace(['Ex','Gd','TA','Fa','Po'],[0,1,2,3,4])\n",
    "BsmtQual = hpall['BsmtQual'].fillna(0).replace(['Ex','Gd','TA','Fa','Po'],[10,9,8,7,6]).astype(int)\n",
    "BsmtCond = hpall['BsmtCond'].fillna(2.5).replace(['Ex','Gd','TA','Fa','Po'],[0,1,2,3,4])\n",
    "# unsure of the mapping here.\n",
    "# It may be better to have no basement than a poor basement\n",
    "BsmtExposure = hpall['BsmtExposure'].fillna(3).replace(['Gd','Av','Mn','No'],[0,1,2,3])\n",
    "# What is the exposure level of no basement?\n",
    "BsmtFinType1 = hpall['BsmtFinType1'].fillna(5).replace(['GLQ','ALQ','BLQ','Rec','LwQ','Unf'],[0,1,2,3,4,5])\n",
    "BsmtFinType2 = hpall['BsmtFinType2'].fillna(5).replace(['GLQ','ALQ','BLQ','Rec','LwQ','Unf'],[0,1,2,3,4,5])\n",
    "HeatingQC = hpall['HeatingQC'].replace(['Ex','Gd','TA','Fa','Po'],[0,1,2,3,4])\n",
    "KitchenQual = hpall['KitchenQual'].replace(['Ex','Gd','TA','Fa','Po'],[0,1,2,3,4])\n",
    "KitchenQual = KitchenQual.fillna(KitchenQual[:1460].mean()).astype(float)\n",
    "Functional = hpall['Functional'].replace(['Typ','Min1','Min2','Mod','Maj1','Maj2','Sev','Sal'],[0,1,2,3,4,5,6,7])\n",
    "Functional = Functional.fillna(Functional[:1460].mean()).astype(float)\n",
    "FireplaceQu = hpall['FireplaceQu'].fillna(5).replace(['Ex','Gd','TA','Fa','Po'],[0,1,2,3,4])\n",
    "GarageFinish = hpall['GarageFinish'].fillna(3).replace(['Fin','RFn','Unf'],[0,1,2])\n",
    "GarageQual = hpall['GarageQual'].fillna(5).replace(['Ex','Gd','TA','Fa','Po'],[0,1,2,3,4])\n",
    "GarageCond = hpall['GarageCond'].fillna(5).replace(['Ex','Gd','TA','Fa','Po'],[0,1,2,3,4])\n",
    "# This might be double penalizing houses without garages.\n",
    "# I may have done something similar for basements above.\n",
    "PavedDrive = hpall['PavedDrive'].replace(['Y','P','N'],[0,1,2])\n",
    "PoolQC = hpall['PoolQC'].fillna(4).replace(['Ex','Gd','TA','Fa'],[0,1,2,3])\n",
    "PoolQC = PoolQC.fillna(PoolQC[:1460].mean()).astype(float)\n",
    "Fence = hpall['Fence'].replace(['GdPrv','MnPrv','GdWo','MnWw'],[0,1,2,3])\n",
    "Fence = Fence.fillna(Fence[:1460].mean())"
   ]
  },
  {
   "cell_type": "markdown",
   "metadata": {},
   "source": [
    "Every place where I used the mean, I should only use the mean of the training data.\n",
    "\n",
    "This means that X = X.fillna(X.mean()) should look like X = X.fillna(X[:1460].mean())"
   ]
  },
  {
   "cell_type": "code",
   "execution_count": 20,
   "metadata": {
    "scrolled": true
   },
   "outputs": [
    {
     "data": {
      "text/plain": [
       "MSSubClass          0\n",
       "MSZoning            4\n",
       "LotFrontage       486\n",
       "LotArea             0\n",
       "Alley            2721\n",
       "LotShape            0\n",
       "LandContour         0\n",
       "LotConfig           0\n",
       "LandSlope           0\n",
       "Neighborhood        0\n",
       "Condition1          0\n",
       "Condition2          0\n",
       "BldgType            0\n",
       "HouseStyle          0\n",
       "OverallQual         0\n",
       "OverallCond         0\n",
       "YearBuilt           0\n",
       "YearRemodAdd        0\n",
       "RoofStyle           0\n",
       "RoofMatl            0\n",
       "Exterior1st         1\n",
       "Exterior2nd         1\n",
       "MasVnrType         24\n",
       "MasVnrArea         23\n",
       "ExterQual           0\n",
       "ExterCond           0\n",
       "Foundation          0\n",
       "BsmtQual           81\n",
       "BsmtCond           82\n",
       "BsmtExposure       82\n",
       "BsmtFinType1       79\n",
       "BsmtFinSF1          1\n",
       "BsmtFinType2       80\n",
       "BsmtFinSF2          1\n",
       "BsmtUnfSF           1\n",
       "TotalBsmtSF         1\n",
       "Heating             0\n",
       "HeatingQC           0\n",
       "CentralAir          0\n",
       "Electrical          1\n",
       "1stFlrSF            0\n",
       "2ndFlrSF            0\n",
       "LowQualFinSF        0\n",
       "GrLivArea           0\n",
       "BsmtFullBath        2\n",
       "BsmtHalfBath        2\n",
       "FullBath            0\n",
       "HalfBath            0\n",
       "BedroomAbvGr        0\n",
       "KitchenAbvGr        0\n",
       "KitchenQual         1\n",
       "TotRmsAbvGrd        0\n",
       "Functional          2\n",
       "Fireplaces          0\n",
       "FireplaceQu      1420\n",
       "GarageType        157\n",
       "GarageYrBlt       159\n",
       "GarageFinish      159\n",
       "GarageCars          1\n",
       "GarageArea          1\n",
       "GarageQual        159\n",
       "GarageCond        159\n",
       "PavedDrive          0\n",
       "WoodDeckSF          0\n",
       "OpenPorchSF         0\n",
       "EnclosedPorch       0\n",
       "3SsnPorch           0\n",
       "ScreenPorch         0\n",
       "PoolArea            0\n",
       "PoolQC           2909\n",
       "Fence            2348\n",
       "MiscFeature      2814\n",
       "MiscVal             0\n",
       "MoSold              0\n",
       "YrSold              0\n",
       "SaleType            1\n",
       "SaleCondition       0\n",
       "dtype: int64"
      ]
     },
     "execution_count": 20,
     "metadata": {},
     "output_type": "execute_result"
    }
   ],
   "source": [
    "hpall.isna().sum()"
   ]
  },
  {
   "cell_type": "markdown",
   "metadata": {},
   "source": [
    "## Concatenating all data together"
   ]
  },
  {
   "cell_type": "code",
   "execution_count": 21,
   "metadata": {},
   "outputs": [],
   "source": [
    "hpXall = pd.concat([Alley,LotShape,LandSlope,ExterQual,ExterCond,BsmtQual,\n",
    "                   BsmtCond,BsmtExposure,BsmtFinType1,BsmtFinType2,HeatingQC,\n",
    "                   KitchenQual,Functional,FireplaceQu,GarageFinish,GarageQual,\n",
    "                   GarageCond,PavedDrive,PoolQC,Fence],axis = 1)"
   ]
  },
  {
   "cell_type": "code",
   "execution_count": 22,
   "metadata": {},
   "outputs": [
    {
     "data": {
      "text/plain": [
       "Alley           0\n",
       "LotShape        0\n",
       "LandSlope       0\n",
       "ExterQual       0\n",
       "ExterCond       0\n",
       "BsmtQual        0\n",
       "BsmtCond        0\n",
       "BsmtExposure    0\n",
       "BsmtFinType1    0\n",
       "BsmtFinType2    0\n",
       "HeatingQC       0\n",
       "KitchenQual     0\n",
       "Functional      0\n",
       "FireplaceQu     0\n",
       "GarageFinish    0\n",
       "GarageQual      0\n",
       "GarageCond      0\n",
       "PavedDrive      0\n",
       "PoolQC          0\n",
       "Fence           0\n",
       "dtype: int64"
      ]
     },
     "execution_count": 22,
     "metadata": {},
     "output_type": "execute_result"
    }
   ],
   "source": [
    "hpXall.isna().sum()"
   ]
  },
  {
   "cell_type": "code",
   "execution_count": 23,
   "metadata": {},
   "outputs": [],
   "source": [
    "hpallNum = hpall.drop(['MSSubClass','MSZoning','LandContour',\"LotConfig\",\"Neighborhood\",\"Condition1\",\n",
    "                   \"Condition2\",\"BldgType\",\"HouseStyle\",\"RoofStyle\",\"RoofMatl\", \"Exterior1st\",\n",
    "                   \"Exterior2nd\",\"MasVnrType\",\"Foundation\",\"Heating\",\"CentralAir\",\"Electrical\",\n",
    "                   \"GarageType\",\"MiscFeature\",\"SaleType\",\"SaleCondition\",'Alley','LotShape','LandSlope',\n",
    "                   'ExterQual','ExterCond','BsmtQual','BsmtCond','BsmtExposure','BsmtFinType1','BsmtFinType2','HeatingQC',\n",
    "                   'KitchenQual','Functional','FireplaceQu','GarageFinish','GarageQual','GarageCond',\n",
    "                   'PavedDrive','PoolQC','Fence'],axis = 1);"
   ]
  },
  {
   "cell_type": "code",
   "execution_count": 24,
   "metadata": {},
   "outputs": [],
   "source": [
    "hpXall = pd.concat([hpXall,hpallNum],axis = 1)#.drop([\"Street\",\"Utilities\"],axis = 1)"
   ]
  },
  {
   "cell_type": "code",
   "execution_count": 25,
   "metadata": {},
   "outputs": [],
   "source": [
    "hpnocat = copy.deepcopy(hpXall)\n",
    "hpXall = pd.concat([hpXall,hpallcat],axis = 1)"
   ]
  },
  {
   "cell_type": "code",
   "execution_count": 26,
   "metadata": {},
   "outputs": [],
   "source": [
    "# splitting the data here is too early\n",
    "# still need to eliminate all the NaNs\n",
    "#hpXtrain = hpXall[:1461]\n",
    "#hpXtest = hpXall[1461:].reset_index(drop = True)"
   ]
  },
  {
   "cell_type": "code",
   "execution_count": 27,
   "metadata": {},
   "outputs": [],
   "source": [
    "hpXall.dtypes; # checking to make sure it's all numbers. This isn't a good test"
   ]
  },
  {
   "cell_type": "code",
   "execution_count": 28,
   "metadata": {},
   "outputs": [
    {
     "data": {
      "text/plain": [
       "Alley                      0\n",
       "LotShape                   0\n",
       "LandSlope                  0\n",
       "ExterQual                  0\n",
       "ExterCond                  0\n",
       "BsmtQual                   0\n",
       "BsmtCond                   0\n",
       "BsmtExposure               0\n",
       "BsmtFinType1               0\n",
       "BsmtFinType2               0\n",
       "HeatingQC                  0\n",
       "KitchenQual                0\n",
       "Functional                 0\n",
       "FireplaceQu                0\n",
       "GarageFinish               0\n",
       "GarageQual                 0\n",
       "GarageCond                 0\n",
       "PavedDrive                 0\n",
       "PoolQC                     0\n",
       "Fence                      0\n",
       "LotFrontage              486\n",
       "LotArea                    0\n",
       "OverallQual                0\n",
       "OverallCond                0\n",
       "YearBuilt                  0\n",
       "YearRemodAdd               0\n",
       "MasVnrArea                23\n",
       "BsmtFinSF1                 1\n",
       "BsmtFinSF2                 1\n",
       "BsmtUnfSF                  1\n",
       "TotalBsmtSF                1\n",
       "1stFlrSF                   0\n",
       "2ndFlrSF                   0\n",
       "LowQualFinSF               0\n",
       "GrLivArea                  0\n",
       "BsmtFullBath               2\n",
       "BsmtHalfBath               2\n",
       "FullBath                   0\n",
       "HalfBath                   0\n",
       "BedroomAbvGr               0\n",
       "KitchenAbvGr               0\n",
       "TotRmsAbvGrd               0\n",
       "Fireplaces                 0\n",
       "GarageYrBlt              159\n",
       "GarageCars                 1\n",
       "GarageArea                 1\n",
       "WoodDeckSF                 0\n",
       "OpenPorchSF                0\n",
       "EnclosedPorch              0\n",
       "3SsnPorch                  0\n",
       "ScreenPorch                0\n",
       "PoolArea                   0\n",
       "MiscVal                    0\n",
       "MoSold                     0\n",
       "YrSold                     0\n",
       "MSSubClass_120             0\n",
       "MSSubClass_150             0\n",
       "MSSubClass_160             0\n",
       "MSSubClass_180             0\n",
       "MSSubClass_190             0\n",
       "MSSubClass_20              0\n",
       "MSSubClass_30              0\n",
       "MSSubClass_40              0\n",
       "MSSubClass_45              0\n",
       "MSSubClass_50              0\n",
       "MSSubClass_60              0\n",
       "MSSubClass_70              0\n",
       "MSSubClass_75              0\n",
       "MSSubClass_80              0\n",
       "MSSubClass_85              0\n",
       "MSSubClass_90              0\n",
       "MSSubClass_nan             0\n",
       "MSZoning_C (all)           0\n",
       "MSZoning_FV                0\n",
       "MSZoning_RH                0\n",
       "MSZoning_RL                0\n",
       "MSZoning_RM                0\n",
       "MSZoning_nan               0\n",
       "LandContour_Bnk            0\n",
       "LandContour_HLS            0\n",
       "LandContour_Low            0\n",
       "LandContour_Lvl            0\n",
       "LandContour_nan            0\n",
       "LotConfig_Corner           0\n",
       "LotConfig_CulDSac          0\n",
       "LotConfig_FR2              0\n",
       "LotConfig_FR3              0\n",
       "LotConfig_Inside           0\n",
       "LotConfig_nan              0\n",
       "Neighborhood_Blmngtn       0\n",
       "Neighborhood_Blueste       0\n",
       "Neighborhood_BrDale        0\n",
       "Neighborhood_BrkSide       0\n",
       "Neighborhood_ClearCr       0\n",
       "Neighborhood_CollgCr       0\n",
       "Neighborhood_Crawfor       0\n",
       "Neighborhood_Edwards       0\n",
       "Neighborhood_Gilbert       0\n",
       "Neighborhood_IDOTRR        0\n",
       "Neighborhood_MeadowV       0\n",
       "Neighborhood_Mitchel       0\n",
       "Neighborhood_NAmes         0\n",
       "Neighborhood_NPkVill       0\n",
       "Neighborhood_NWAmes        0\n",
       "Neighborhood_NoRidge       0\n",
       "Neighborhood_NridgHt       0\n",
       "Neighborhood_OldTown       0\n",
       "Neighborhood_SWISU         0\n",
       "Neighborhood_Sawyer        0\n",
       "Neighborhood_SawyerW       0\n",
       "Neighborhood_Somerst       0\n",
       "Neighborhood_StoneBr       0\n",
       "Neighborhood_Timber        0\n",
       "Neighborhood_Veenker       0\n",
       "Neighborhood_nan           0\n",
       "Condition1_Artery          0\n",
       "Condition1_Feedr           0\n",
       "Condition1_Norm            0\n",
       "Condition1_PosA            0\n",
       "Condition1_PosN            0\n",
       "Condition1_RRAe            0\n",
       "Condition1_RRAn            0\n",
       "Condition1_RRNe            0\n",
       "Condition1_RRNn            0\n",
       "Condition1_nan             0\n",
       "Condition2_Artery          0\n",
       "Condition2_Feedr           0\n",
       "Condition2_Norm            0\n",
       "Condition2_PosA            0\n",
       "Condition2_PosN            0\n",
       "Condition2_RRAe            0\n",
       "Condition2_RRAn            0\n",
       "Condition2_RRNn            0\n",
       "Condition2_nan             0\n",
       "BldgType_1Fam              0\n",
       "BldgType_2fmCon            0\n",
       "BldgType_Duplex            0\n",
       "BldgType_Twnhs             0\n",
       "BldgType_TwnhsE            0\n",
       "BldgType_nan               0\n",
       "HouseStyle_1.5Fin          0\n",
       "HouseStyle_1.5Unf          0\n",
       "HouseStyle_1Story          0\n",
       "HouseStyle_2.5Fin          0\n",
       "HouseStyle_2.5Unf          0\n",
       "HouseStyle_2Story          0\n",
       "HouseStyle_SFoyer          0\n",
       "HouseStyle_SLvl            0\n",
       "HouseStyle_nan             0\n",
       "RoofStyle_Flat             0\n",
       "RoofStyle_Gable            0\n",
       "RoofStyle_Gambrel          0\n",
       "RoofStyle_Hip              0\n",
       "RoofStyle_Mansard          0\n",
       "RoofStyle_Shed             0\n",
       "RoofStyle_nan              0\n",
       "RoofMatl_ClyTile           0\n",
       "RoofMatl_CompShg           0\n",
       "RoofMatl_Membran           0\n",
       "RoofMatl_Metal             0\n",
       "RoofMatl_Roll              0\n",
       "RoofMatl_Tar&Grv           0\n",
       "RoofMatl_WdShake           0\n",
       "RoofMatl_WdShngl           0\n",
       "RoofMatl_nan               0\n",
       "Exterior1st_AsbShng        0\n",
       "Exterior1st_AsphShn        0\n",
       "Exterior1st_BrkComm        0\n",
       "Exterior1st_BrkFace        0\n",
       "Exterior1st_CBlock         0\n",
       "Exterior1st_CemntBd        0\n",
       "Exterior1st_HdBoard        0\n",
       "Exterior1st_ImStucc        0\n",
       "Exterior1st_MetalSd        0\n",
       "Exterior1st_Plywood        0\n",
       "Exterior1st_Stone          0\n",
       "Exterior1st_Stucco         0\n",
       "Exterior1st_VinylSd        0\n",
       "Exterior1st_Wd Sdng        0\n",
       "Exterior1st_WdShing        0\n",
       "Exterior1st_nan            0\n",
       "Exterior2nd_AsbShng        0\n",
       "Exterior2nd_AsphShn        0\n",
       "Exterior2nd_Brk Cmn        0\n",
       "Exterior2nd_BrkFace        0\n",
       "Exterior2nd_CBlock         0\n",
       "Exterior2nd_CmentBd        0\n",
       "Exterior2nd_HdBoard        0\n",
       "Exterior2nd_ImStucc        0\n",
       "Exterior2nd_MetalSd        0\n",
       "Exterior2nd_Other          0\n",
       "Exterior2nd_Plywood        0\n",
       "Exterior2nd_Stone          0\n",
       "Exterior2nd_Stucco         0\n",
       "Exterior2nd_VinylSd        0\n",
       "Exterior2nd_Wd Sdng        0\n",
       "Exterior2nd_Wd Shng        0\n",
       "Exterior2nd_nan            0\n",
       "MasVnrType_BrkCmn          0\n",
       "MasVnrType_BrkFace         0\n",
       "MasVnrType_None            0\n",
       "MasVnrType_Stone           0\n",
       "MasVnrType_nan             0\n",
       "Foundation_BrkTil          0\n",
       "Foundation_CBlock          0\n",
       "Foundation_PConc           0\n",
       "Foundation_Slab            0\n",
       "Foundation_Stone           0\n",
       "Foundation_Wood            0\n",
       "Foundation_nan             0\n",
       "Heating_Floor              0\n",
       "Heating_GasA               0\n",
       "Heating_GasW               0\n",
       "Heating_Grav               0\n",
       "Heating_OthW               0\n",
       "Heating_Wall               0\n",
       "Heating_nan                0\n",
       "CentralAir_N               0\n",
       "CentralAir_Y               0\n",
       "CentralAir_nan             0\n",
       "Electrical_FuseA           0\n",
       "Electrical_FuseF           0\n",
       "Electrical_FuseP           0\n",
       "Electrical_Mix             0\n",
       "Electrical_SBrkr           0\n",
       "Electrical_nan             0\n",
       "GarageType_2Types          0\n",
       "GarageType_Attchd          0\n",
       "GarageType_Basment         0\n",
       "GarageType_BuiltIn         0\n",
       "GarageType_CarPort         0\n",
       "GarageType_Detchd          0\n",
       "GarageType_nan             0\n",
       "MiscFeature_Gar2           0\n",
       "MiscFeature_Othr           0\n",
       "MiscFeature_Shed           0\n",
       "MiscFeature_TenC           0\n",
       "MiscFeature_nan            0\n",
       "SaleType_COD               0\n",
       "SaleType_CWD               0\n",
       "SaleType_Con               0\n",
       "SaleType_ConLD             0\n",
       "SaleType_ConLI             0\n",
       "SaleType_ConLw             0\n",
       "SaleType_New               0\n",
       "SaleType_Oth               0\n",
       "SaleType_WD                0\n",
       "SaleType_nan               0\n",
       "SaleCondition_Abnorml      0\n",
       "SaleCondition_AdjLand      0\n",
       "SaleCondition_Alloca       0\n",
       "SaleCondition_Family       0\n",
       "SaleCondition_Normal       0\n",
       "SaleCondition_Partial      0\n",
       "SaleCondition_nan          0\n",
       "dtype: int64"
      ]
     },
     "execution_count": 28,
     "metadata": {},
     "output_type": "execute_result"
    }
   ],
   "source": [
    "hpXall.isna().sum()"
   ]
  },
  {
   "cell_type": "code",
   "execution_count": 29,
   "metadata": {},
   "outputs": [
    {
     "data": {
      "text/plain": [
       "678"
      ]
     },
     "execution_count": 29,
     "metadata": {},
     "output_type": "execute_result"
    }
   ],
   "source": [
    "hpXall.isna().sum().sum()"
   ]
  },
  {
   "cell_type": "code",
   "execution_count": 30,
   "metadata": {},
   "outputs": [],
   "source": [
    "#hpXtrain['MasVnrArea'] = hpXtrain['MasVnrArea'].replace(np.nan,0)\n",
    "hpXall.loc[:,'MasVnrArea'] = hpXall['MasVnrArea'].replace(np.nan,0)\n",
    "hpXall.loc[:,'LotFrontage'] = hpXall['LotFrontage'].replace(np.nan,0)\n",
    "hpXall.loc[:,'GarageYrBlt'] = hpXall['GarageYrBlt'].replace(np.nan,hpXall.loc[:1460,'GarageYrBlt'].mean())\n",
    "hpXall.loc[:,\"BsmtFinSF1\"] = hpXall['BsmtFinSF1'].replace(np.nan,0)\n",
    "hpXall.loc[:,'BsmtFinSF2'] = hpXall['BsmtFinSF2'].replace(np.nan,0)\n",
    "hpXall.loc[:,'BsmtUnfSF'] = hpXall['BsmtUnfSF'].replace(np.nan,0)\n",
    "hpXall.loc[:,'TotalBsmtSF'] = hpXall['TotalBsmtSF'].replace(np.nan,0)\n",
    "hpXall.loc[:,'BsmtFullBath'] = hpXall['BsmtFullBath'].replace(np.nan,0)\n",
    "hpXall.loc[:,'BsmtHalfBath'] = hpXall['BsmtHalfBath'].replace(np.nan,0)\n",
    "hpXall.loc[:,'GarageCars'] = hpXall['GarageCars'].replace(np.nan,0)\n",
    "hpXall.loc[:,'GarageArea'] = hpXall['GarageArea'].replace(np.nan,0)"
   ]
  },
  {
   "cell_type": "code",
   "execution_count": 31,
   "metadata": {},
   "outputs": [
    {
     "data": {
      "text/plain": [
       "0"
      ]
     },
     "execution_count": 31,
     "metadata": {},
     "output_type": "execute_result"
    }
   ],
   "source": [
    "hpXall.isna().sum().sum()"
   ]
  },
  {
   "cell_type": "markdown",
   "metadata": {},
   "source": [
    "Now split the data"
   ]
  },
  {
   "cell_type": "code",
   "execution_count": 32,
   "metadata": {},
   "outputs": [],
   "source": [
    "hpXtrain = hpXall[:1460]\n",
    "hpXtest = hpXall[1460:]#.reset_index(drop = True)"
   ]
  },
  {
   "cell_type": "markdown",
   "metadata": {},
   "source": [
    "## Scaling data"
   ]
  },
  {
   "cell_type": "markdown",
   "metadata": {},
   "source": [
    "It may be necessary to scale then copy so that the sparse elements can be maintained as sparse. However, https://stackoverflow.com/questions/36969886/using-a-sparse-matrix-versus-numpy-array claims that sparsity needs to be >~ 99% before speed improvements are noticeable."
   ]
  },
  {
   "cell_type": "code",
   "execution_count": 33,
   "metadata": {},
   "outputs": [
    {
     "name": "stdout",
     "output_type": "stream",
     "text": [
      "0.89\n"
     ]
    }
   ],
   "source": [
    "# calculate sparsity\n",
    "sparsity = 1.0 - ( np.count_nonzero(hpallcat) / float(hpallcat.size) )\n",
    "print(sparsity)"
   ]
  },
  {
   "cell_type": "code",
   "execution_count": 34,
   "metadata": {},
   "outputs": [],
   "source": [
    "from sklearn.preprocessing import StandardScaler"
   ]
  },
  {
   "cell_type": "code",
   "execution_count": 35,
   "metadata": {},
   "outputs": [],
   "source": [
    "scaler = StandardScaler()\n",
    "scaled_hptrain = scaler.fit_transform(hpXtrain)\n",
    "scaled_hptest = scaler.transform(hpXtest)"
   ]
  },
  {
   "cell_type": "markdown",
   "metadata": {},
   "source": [
    "## sklearn fitting"
   ]
  },
  {
   "cell_type": "markdown",
   "metadata": {},
   "source": [
    "### LinearRegression"
   ]
  },
  {
   "cell_type": "code",
   "execution_count": 36,
   "metadata": {},
   "outputs": [],
   "source": [
    "from sklearn.linear_model import LinearRegression"
   ]
  },
  {
   "cell_type": "code",
   "execution_count": 37,
   "metadata": {},
   "outputs": [],
   "source": [
    "reg = LinearRegression().fit(scaled_hptrain, trainprice)"
   ]
  },
  {
   "cell_type": "code",
   "execution_count": 38,
   "metadata": {
    "scrolled": true
   },
   "outputs": [],
   "source": [
    "pricepred = reg.predict(scaled_hptest)"
   ]
  },
  {
   "cell_type": "markdown",
   "metadata": {},
   "source": [
    "#### Get prediction into submission format and write to file"
   ]
  },
  {
   "cell_type": "code",
   "execution_count": 39,
   "metadata": {},
   "outputs": [],
   "source": [
    "pricepred = {'Id':list(hpXtest.index),'SalePrice':pricepred}\n",
    "pricepred = pd.DataFrame(pricepred)"
   ]
  },
  {
   "cell_type": "code",
   "execution_count": 40,
   "metadata": {},
   "outputs": [],
   "source": [
    "pricepred = pricepred.set_index(hpXtest.index)"
   ]
  },
  {
   "cell_type": "code",
   "execution_count": 41,
   "metadata": {},
   "outputs": [],
   "source": [
    "pricepred['Id'] = list(map(lambda x : x + 1, list(hpXtest.index)))"
   ]
  },
  {
   "cell_type": "code",
   "execution_count": 42,
   "metadata": {},
   "outputs": [],
   "source": [
    "pricepred.to_csv(\".\\linregpricepred.csv\",index=False)"
   ]
  },
  {
   "cell_type": "markdown",
   "metadata": {},
   "source": [
    "kaggle want 1459 prediction rows\n",
    "\n",
    "kaggle also wants 2919 in the set\n",
    "\n",
    "the Id column that I eliminated first thing is one greater than the index"
   ]
  },
  {
   "cell_type": "markdown",
   "metadata": {},
   "source": [
    "### LogisticRegression"
   ]
  },
  {
   "cell_type": "code",
   "execution_count": 43,
   "metadata": {},
   "outputs": [],
   "source": [
    "#from sklearn.linear_model import LogisticRegression"
   ]
  },
  {
   "cell_type": "code",
   "execution_count": 44,
   "metadata": {},
   "outputs": [],
   "source": [
    "#reg = LogisticRegression(solver = \"saga\", multi_class = \"auto\",).fit(scaled_hptrain, trainprice)"
   ]
  },
  {
   "cell_type": "code",
   "execution_count": 45,
   "metadata": {},
   "outputs": [],
   "source": [
    "#pricepred = reg.predict(scaled_hptest)"
   ]
  },
  {
   "cell_type": "code",
   "execution_count": 46,
   "metadata": {},
   "outputs": [],
   "source": [
    "# pricepred = {'Id':list(hpXtest.index),'SalePrice':pricepred}\n",
    "# pricepred = pd.DataFrame(pricepred)\n",
    "# pricepred = pricepred.set_index(hpXtest.index)\n",
    "# pricepred['Id'] = list(map(lambda x : x + 1, list(hpXtest.index)))\n",
    "# pricepred.to_csv(\".\\logregpricepred.csv\",index=False)"
   ]
  },
  {
   "cell_type": "markdown",
   "metadata": {},
   "source": [
    "### SGDRegressor"
   ]
  },
  {
   "cell_type": "code",
   "execution_count": 47,
   "metadata": {},
   "outputs": [],
   "source": [
    "from sklearn.linear_model import SGDRegressor"
   ]
  },
  {
   "cell_type": "code",
   "execution_count": 48,
   "metadata": {},
   "outputs": [],
   "source": [
    "reg = SGDRegressor().fit(scaled_hptrain, trainprice)"
   ]
  },
  {
   "cell_type": "code",
   "execution_count": 49,
   "metadata": {},
   "outputs": [],
   "source": [
    "pricepred = reg.predict(scaled_hptest)"
   ]
  },
  {
   "cell_type": "code",
   "execution_count": 50,
   "metadata": {},
   "outputs": [],
   "source": [
    "pricepred = {'Id':list(hpXtest.index),'SalePrice':pricepred}\n",
    "pricepred = pd.DataFrame(pricepred)\n",
    "pricepred = pricepred.set_index(hpXtest.index)\n",
    "pricepred['Id'] = list(map(lambda x : x + 1, list(hpXtest.index)))\n",
    "pricepred.to_csv(\".\\SGDregpricepred.csv\",index=False)"
   ]
  },
  {
   "cell_type": "markdown",
   "metadata": {},
   "source": [
    "This performed very poorly"
   ]
  },
  {
   "cell_type": "markdown",
   "metadata": {},
   "source": [
    "### Neural Network MLP"
   ]
  },
  {
   "cell_type": "code",
   "execution_count": 51,
   "metadata": {},
   "outputs": [],
   "source": [
    "#from sklearn.neural_network import MLPRegressor"
   ]
  },
  {
   "cell_type": "code",
   "execution_count": 52,
   "metadata": {},
   "outputs": [],
   "source": [
    "#reg = MLPRegressor(hidden_layer_sizes = (1000,), max_iter = 1000).fit(scaled_hptrain, trainprice)\n",
    "#pricepred = reg.predict(scaled_hptest)"
   ]
  },
  {
   "cell_type": "code",
   "execution_count": 53,
   "metadata": {},
   "outputs": [],
   "source": [
    "# pricepred = {'Id':list(hpXtest.index),'SalePrice':pricepred}\n",
    "# pricepred = pd.DataFrame(pricepred)\n",
    "# pricepred = pricepred.set_index(hpXtest.index)\n",
    "# pricepred['Id'] = list(map(lambda x : x + 1, list(hpXtest.index)))\n",
    "# pricepred.to_csv(\".\\MLPRegpricepred.csv\",index=False)"
   ]
  },
  {
   "cell_type": "markdown",
   "metadata": {},
   "source": [
    "not converging"
   ]
  },
  {
   "cell_type": "markdown",
   "metadata": {},
   "source": [
    "### ensemble.RandomForestRegressor"
   ]
  },
  {
   "cell_type": "code",
   "execution_count": 54,
   "metadata": {},
   "outputs": [],
   "source": [
    "from sklearn.ensemble import RandomForestRegressor"
   ]
  },
  {
   "cell_type": "code",
   "execution_count": 55,
   "metadata": {},
   "outputs": [],
   "source": [
    "reg = RandomForestRegressor(n_estimators = 1000).fit(scaled_hptrain, trainprice)\n",
    "pricepred = reg.predict(scaled_hptest)"
   ]
  },
  {
   "cell_type": "code",
   "execution_count": 56,
   "metadata": {},
   "outputs": [],
   "source": [
    "pricepred = {'Id':list(hpXtest.index),'SalePrice':pricepred}\n",
    "pricepred = pd.DataFrame(pricepred)\n",
    "pricepred = pricepred.set_index(hpXtest.index)\n",
    "pricepred['Id'] = list(map(lambda x : x + 1, list(hpXtest.index)))\n",
    "pricepred.to_csv(\".\\RandForRegpricepred.csv\",index=False)"
   ]
  },
  {
   "cell_type": "markdown",
   "metadata": {},
   "source": [
    "### ensemble.ExtraTreesRegressor"
   ]
  },
  {
   "cell_type": "code",
   "execution_count": 57,
   "metadata": {},
   "outputs": [],
   "source": [
    "from sklearn.ensemble import ExtraTreesRegressor"
   ]
  },
  {
   "cell_type": "code",
   "execution_count": 58,
   "metadata": {},
   "outputs": [],
   "source": [
    "reg = ExtraTreesRegressor(n_estimators = 1000).fit(scaled_hptrain, trainprice)\n",
    "pricepred = reg.predict(scaled_hptest)"
   ]
  },
  {
   "cell_type": "code",
   "execution_count": 59,
   "metadata": {},
   "outputs": [],
   "source": [
    "pricepred = {'Id':list(hpXtest.index),'SalePrice':pricepred}\n",
    "pricepred = pd.DataFrame(pricepred)\n",
    "pricepred = pricepred.set_index(hpXtest.index)\n",
    "pricepred['Id'] = list(map(lambda x : x + 1, list(hpXtest.index)))\n",
    "pricepred.to_csv(\".\\XtreesRegpricepred.csv\",index=False)"
   ]
  },
  {
   "cell_type": "markdown",
   "metadata": {},
   "source": [
    "### XGBoost"
   ]
  },
  {
   "cell_type": "code",
   "execution_count": 60,
   "metadata": {},
   "outputs": [],
   "source": [
    "from xgboost import XGBRegressor"
   ]
  },
  {
   "cell_type": "markdown",
   "metadata": {},
   "source": [
    "parameters for XGBRegressor chosen after consulting: https://xgboost.readthedocs.io/en/latest/parameter.html\n",
    "\n",
    "Default options seem to work the best"
   ]
  },
  {
   "cell_type": "code",
   "execution_count": 69,
   "metadata": {},
   "outputs": [
    {
     "name": "stdout",
     "output_type": "stream",
     "text": [
      "[20:42:04] WARNING: C:/Jenkins/workspace/xgboost-win64_release_0.90/src/objective/regression_obj.cu:152: reg:linear is now deprecated in favor of reg:squarederror.\n"
     ]
    }
   ],
   "source": [
    "reg = XGBRegressor(n_estimators = 1000).fit(scaled_hptrain, trainprice)\n",
    "pricepred = reg.predict(scaled_hptest)"
   ]
  },
  {
   "cell_type": "code",
   "execution_count": 70,
   "metadata": {},
   "outputs": [],
   "source": [
    "pricepred = {'Id':list(hpXtest.index),'SalePrice':pricepred}\n",
    "pricepred = pd.DataFrame(pricepred)\n",
    "pricepred = pricepred.set_index(hpXtest.index)\n",
    "pricepred['Id'] = list(map(lambda x : x + 1, list(hpXtest.index)))\n",
    "pricepred.to_csv(\".\\XGBRegpricepred.csv\",index=False)"
   ]
  },
  {
   "cell_type": "code",
   "execution_count": null,
   "metadata": {},
   "outputs": [],
   "source": []
  }
 ],
 "metadata": {
  "kernelspec": {
   "display_name": "Python 3",
   "language": "python",
   "name": "python3"
  },
  "language_info": {
   "codemirror_mode": {
    "name": "ipython",
    "version": 3
   },
   "file_extension": ".py",
   "mimetype": "text/x-python",
   "name": "python",
   "nbconvert_exporter": "python",
   "pygments_lexer": "ipython3",
   "version": "3.7.4"
  }
 },
 "nbformat": 4,
 "nbformat_minor": 2
}
