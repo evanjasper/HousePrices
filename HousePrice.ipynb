{
 "cells": [
  {
   "cell_type": "code",
   "execution_count": 1,
   "metadata": {},
   "outputs": [],
   "source": [
    "import pandas as pd\n",
    "import numpy as np"
   ]
  },
  {
   "cell_type": "code",
   "execution_count": 2,
   "metadata": {},
   "outputs": [],
   "source": [
    "# This makes pandas display the full dataframe\n",
    "pd.set_option('display.max_columns', None)\n",
    "pd.set_option('display.max_rows', None)"
   ]
  },
  {
   "cell_type": "markdown",
   "metadata": {},
   "source": [
    "# This section is manipulating and recasting data"
   ]
  },
  {
   "cell_type": "markdown",
   "metadata": {},
   "source": [
    "### Load data"
   ]
  },
  {
   "cell_type": "code",
   "execution_count": 3,
   "metadata": {},
   "outputs": [],
   "source": [
    "hptrain = pd.read_csv(\"./train.csv\")\n",
    "hptest = pd.read_csv(\"./test.csv\")"
   ]
  },
  {
   "cell_type": "code",
   "execution_count": 4,
   "metadata": {},
   "outputs": [],
   "source": [
    "trainprice = hptrain[\"SalePrice\"]\n",
    "#testprice = hptest[\"SalePrice\"] \n",
    "# This data is not included in the dataset and presumably needs to be uploaded to check for accuracy"
   ]
  },
  {
   "cell_type": "code",
   "execution_count": 5,
   "metadata": {},
   "outputs": [],
   "source": [
    "hptrain.dtypes;"
   ]
  },
  {
   "cell_type": "code",
   "execution_count": 6,
   "metadata": {},
   "outputs": [],
   "source": [
    "hptrain = hptrain.drop([\"Id\",\"SalePrice\"],axis = 1);\n",
    "hptest = hptest.drop(columns=\"Id\",axis = 1)"
   ]
  },
  {
   "cell_type": "markdown",
   "metadata": {},
   "source": [
    "### Recast MSSubClass as string type instead of numerical"
   ]
  },
  {
   "cell_type": "code",
   "execution_count": 7,
   "metadata": {},
   "outputs": [],
   "source": [
    "hptrain = hptrain.astype({\"MSSubClass\":str})\n",
    "hptest = hptest.astype({\"MSSubClass\":str})"
   ]
  },
  {
   "cell_type": "markdown",
   "metadata": {},
   "source": [
    "### Prepare to encode some categorical variables as dummy variables"
   ]
  },
  {
   "cell_type": "code",
   "execution_count": 8,
   "metadata": {},
   "outputs": [],
   "source": [
    "hptrncat = pd.get_dummies(hptrain[['MSSubClass','MSZoning','LandContour',\"LotConfig\",\"Neighborhood\",\"Condition1\",\n",
    "                   \"Condition2\",\"BldgType\",\"HouseStyle\",\"RoofStyle\",\"RoofMatl\", \"Exterior1st\",\n",
    "                   \"Exterior2nd\",\"MasVnrType\",\"Foundation\",\"Heating\",\"CentralAir\",\"Electrical\",\n",
    "                   \"GarageType\",\"MiscFeature\",\"SaleType\",\"SaleCondition\"]],dummy_na=True)\n",
    "hptstcat = pd.get_dummies(hptest[['MSSubClass','MSZoning','LandContour',\"LotConfig\",\"Neighborhood\",\"Condition1\",\n",
    "                   \"Condition2\",\"BldgType\",\"HouseStyle\",\"RoofStyle\",\"RoofMatl\", \"Exterior1st\",\n",
    "                   \"Exterior2nd\",\"MasVnrType\",\"Foundation\",\"Heating\",\"CentralAir\",\"Electrical\",\n",
    "                   \"GarageType\",\"MiscFeature\",\"SaleType\",\"SaleCondition\"]],dummy_na=True)"
   ]
  },
  {
   "cell_type": "markdown",
   "metadata": {},
   "source": [
    "### Ordinal encoding on other non-numeric variables"
   ]
  },
  {
   "cell_type": "code",
   "execution_count": 9,
   "metadata": {},
   "outputs": [
    {
     "data": {
      "text/plain": [
       "Pave    1454\n",
       "Grvl       6\n",
       "Name: Street, dtype: int64"
      ]
     },
     "execution_count": 9,
     "metadata": {},
     "output_type": "execute_result"
    }
   ],
   "source": [
    "hptrain[\"Street\"].value_counts(dropna=False) # I don't think \"Street\" will have much predictive power"
   ]
  },
  {
   "cell_type": "markdown",
   "metadata": {},
   "source": [
    "#### Determine which categorical variables have low variance (by eye)"
   ]
  },
  {
   "cell_type": "code",
   "execution_count": 10,
   "metadata": {
    "scrolled": true
   },
   "outputs": [],
   "source": [
    "hptrain.columns;"
   ]
  },
  {
   "cell_type": "code",
   "execution_count": 11,
   "metadata": {
    "scrolled": false
   },
   "outputs": [
    {
     "data": {
      "text/plain": [
       "False"
      ]
     },
     "execution_count": 11,
     "metadata": {},
     "output_type": "execute_result"
    }
   ],
   "source": [
    "type(hptrain['MiscFeature'][0]) == str"
   ]
  },
  {
   "cell_type": "code",
   "execution_count": 12,
   "metadata": {},
   "outputs": [
    {
     "data": {
      "text/plain": [
       "False"
      ]
     },
     "execution_count": 12,
     "metadata": {},
     "output_type": "execute_result"
    }
   ],
   "source": [
    "hptrain['MiscFeature'].notna()[0]"
   ]
  },
  {
   "cell_type": "code",
   "execution_count": 13,
   "metadata": {},
   "outputs": [
    {
     "name": "stdout",
     "output_type": "stream",
     "text": [
      "20     536\n",
      "60     299\n",
      "50     144\n",
      "120     87\n",
      "30      69\n",
      "160     63\n",
      "70      60\n",
      "80      58\n",
      "90      52\n",
      "190     30\n",
      "85      20\n",
      "75      16\n",
      "45      12\n",
      "180     10\n",
      "40       4\n",
      "Name: MSSubClass, dtype: int64\n",
      "RL         1151\n",
      "RM          218\n",
      "FV           65\n",
      "RH           16\n",
      "C (all)      10\n",
      "Name: MSZoning, dtype: int64\n",
      "Pave    1454\n",
      "Grvl       6\n",
      "Name: Street, dtype: int64\n",
      "Reg    925\n",
      "IR1    484\n",
      "IR2     41\n",
      "IR3     10\n",
      "Name: LotShape, dtype: int64\n",
      "Lvl    1311\n",
      "Bnk      63\n",
      "HLS      50\n",
      "Low      36\n",
      "Name: LandContour, dtype: int64\n",
      "AllPub    1459\n",
      "NoSeWa       1\n",
      "Name: Utilities, dtype: int64\n",
      "Inside     1052\n",
      "Corner      263\n",
      "CulDSac      94\n",
      "FR2          47\n",
      "FR3           4\n",
      "Name: LotConfig, dtype: int64\n",
      "Gtl    1382\n",
      "Mod      65\n",
      "Sev      13\n",
      "Name: LandSlope, dtype: int64\n",
      "NAmes      225\n",
      "CollgCr    150\n",
      "OldTown    113\n",
      "Edwards    100\n",
      "Somerst     86\n",
      "Gilbert     79\n",
      "NridgHt     77\n",
      "Sawyer      74\n",
      "NWAmes      73\n",
      "SawyerW     59\n",
      "BrkSide     58\n",
      "Crawfor     51\n",
      "Mitchel     49\n",
      "NoRidge     41\n",
      "Timber      38\n",
      "IDOTRR      37\n",
      "ClearCr     28\n",
      "SWISU       25\n",
      "StoneBr     25\n",
      "Blmngtn     17\n",
      "MeadowV     17\n",
      "BrDale      16\n",
      "Veenker     11\n",
      "NPkVill      9\n",
      "Blueste      2\n",
      "Name: Neighborhood, dtype: int64\n",
      "Norm      1260\n",
      "Feedr       81\n",
      "Artery      48\n",
      "RRAn        26\n",
      "PosN        19\n",
      "RRAe        11\n",
      "PosA         8\n",
      "RRNn         5\n",
      "RRNe         2\n",
      "Name: Condition1, dtype: int64\n",
      "Norm      1445\n",
      "Feedr        6\n",
      "PosN         2\n",
      "RRNn         2\n",
      "Artery       2\n",
      "PosA         1\n",
      "RRAe         1\n",
      "RRAn         1\n",
      "Name: Condition2, dtype: int64\n",
      "1Fam      1220\n",
      "TwnhsE     114\n",
      "Duplex      52\n",
      "Twnhs       43\n",
      "2fmCon      31\n",
      "Name: BldgType, dtype: int64\n",
      "1Story    726\n",
      "2Story    445\n",
      "1.5Fin    154\n",
      "SLvl       65\n",
      "SFoyer     37\n",
      "1.5Unf     14\n",
      "2.5Unf     11\n",
      "2.5Fin      8\n",
      "Name: HouseStyle, dtype: int64\n",
      "Gable      1141\n",
      "Hip         286\n",
      "Flat         13\n",
      "Gambrel      11\n",
      "Mansard       7\n",
      "Shed          2\n",
      "Name: RoofStyle, dtype: int64\n",
      "CompShg    1434\n",
      "Tar&Grv      11\n",
      "WdShngl       6\n",
      "WdShake       5\n",
      "Metal         1\n",
      "ClyTile       1\n",
      "Roll          1\n",
      "Membran       1\n",
      "Name: RoofMatl, dtype: int64\n",
      "VinylSd    515\n",
      "HdBoard    222\n",
      "MetalSd    220\n",
      "Wd Sdng    206\n",
      "Plywood    108\n",
      "CemntBd     61\n",
      "BrkFace     50\n",
      "WdShing     26\n",
      "Stucco      25\n",
      "AsbShng     20\n",
      "BrkComm      2\n",
      "Stone        2\n",
      "ImStucc      1\n",
      "CBlock       1\n",
      "AsphShn      1\n",
      "Name: Exterior1st, dtype: int64\n",
      "VinylSd    504\n",
      "MetalSd    214\n",
      "HdBoard    207\n",
      "Wd Sdng    197\n",
      "Plywood    142\n",
      "CmentBd     60\n",
      "Wd Shng     38\n",
      "Stucco      26\n",
      "BrkFace     25\n",
      "AsbShng     20\n",
      "ImStucc     10\n",
      "Brk Cmn      7\n",
      "Stone        5\n",
      "AsphShn      3\n",
      "CBlock       1\n",
      "Other        1\n",
      "Name: Exterior2nd, dtype: int64\n",
      "None       864\n",
      "BrkFace    445\n",
      "Stone      128\n",
      "BrkCmn      15\n",
      "NaN          8\n",
      "Name: MasVnrType, dtype: int64\n",
      "TA    906\n",
      "Gd    488\n",
      "Ex     52\n",
      "Fa     14\n",
      "Name: ExterQual, dtype: int64\n",
      "TA    1282\n",
      "Gd     146\n",
      "Fa      28\n",
      "Ex       3\n",
      "Po       1\n",
      "Name: ExterCond, dtype: int64\n",
      "PConc     647\n",
      "CBlock    634\n",
      "BrkTil    146\n",
      "Slab       24\n",
      "Stone       6\n",
      "Wood        3\n",
      "Name: Foundation, dtype: int64\n",
      "TA     649\n",
      "Gd     618\n",
      "Ex     121\n",
      "NaN     37\n",
      "Fa      35\n",
      "Name: BsmtQual, dtype: int64\n",
      "TA     1311\n",
      "Gd       65\n",
      "Fa       45\n",
      "NaN      37\n",
      "Po        2\n",
      "Name: BsmtCond, dtype: int64\n",
      "No     953\n",
      "Av     221\n",
      "Gd     134\n",
      "Mn     114\n",
      "NaN     38\n",
      "Name: BsmtExposure, dtype: int64\n",
      "Unf    430\n",
      "GLQ    418\n",
      "ALQ    220\n",
      "BLQ    148\n",
      "Rec    133\n",
      "LwQ     74\n",
      "NaN     37\n",
      "Name: BsmtFinType1, dtype: int64\n",
      "Unf    1256\n",
      "Rec      54\n",
      "LwQ      46\n",
      "NaN      38\n",
      "BLQ      33\n",
      "ALQ      19\n",
      "GLQ      14\n",
      "Name: BsmtFinType2, dtype: int64\n",
      "GasA     1428\n",
      "GasW       18\n",
      "Grav        7\n",
      "Wall        4\n",
      "OthW        2\n",
      "Floor       1\n",
      "Name: Heating, dtype: int64\n",
      "Ex    741\n",
      "TA    428\n",
      "Gd    241\n",
      "Fa     49\n",
      "Po      1\n",
      "Name: HeatingQC, dtype: int64\n",
      "Y    1365\n",
      "N      95\n",
      "Name: CentralAir, dtype: int64\n",
      "SBrkr    1334\n",
      "FuseA      94\n",
      "FuseF      27\n",
      "FuseP       3\n",
      "Mix         1\n",
      "NaN         1\n",
      "Name: Electrical, dtype: int64\n",
      "TA    735\n",
      "Gd    586\n",
      "Ex    100\n",
      "Fa     39\n",
      "Name: KitchenQual, dtype: int64\n",
      "Typ     1360\n",
      "Min2      34\n",
      "Min1      31\n",
      "Mod       15\n",
      "Maj1      14\n",
      "Maj2       5\n",
      "Sev        1\n",
      "Name: Functional, dtype: int64\n",
      "Attchd     870\n",
      "Detchd     387\n",
      "BuiltIn     88\n",
      "NaN         81\n",
      "Basment     19\n",
      "CarPort      9\n",
      "2Types       6\n",
      "Name: GarageType, dtype: int64\n",
      "Unf    605\n",
      "RFn    422\n",
      "Fin    352\n",
      "NaN     81\n",
      "Name: GarageFinish, dtype: int64\n",
      "TA     1311\n",
      "NaN      81\n",
      "Fa       48\n",
      "Gd       14\n",
      "Po        3\n",
      "Ex        3\n",
      "Name: GarageQual, dtype: int64\n",
      "TA     1326\n",
      "NaN      81\n",
      "Fa       35\n",
      "Gd        9\n",
      "Po        7\n",
      "Ex        2\n",
      "Name: GarageCond, dtype: int64\n",
      "Y    1340\n",
      "N      90\n",
      "P      30\n",
      "Name: PavedDrive, dtype: int64\n",
      "NaN      1179\n",
      "MnPrv     157\n",
      "GdPrv      59\n",
      "GdWo       54\n",
      "MnWw       11\n",
      "Name: Fence, dtype: int64\n",
      "NaN     1406\n",
      "Shed      49\n",
      "Gar2       2\n",
      "Othr       2\n",
      "TenC       1\n",
      "Name: MiscFeature, dtype: int64\n",
      "WD       1267\n",
      "New       122\n",
      "COD        43\n",
      "ConLD       9\n",
      "ConLw       5\n",
      "ConLI       5\n",
      "CWD         4\n",
      "Oth         3\n",
      "Con         2\n",
      "Name: SaleType, dtype: int64\n",
      "Normal     1198\n",
      "Partial     125\n",
      "Abnorml     101\n",
      "Family       20\n",
      "Alloca       12\n",
      "AdjLand       4\n",
      "Name: SaleCondition, dtype: int64\n"
     ]
    }
   ],
   "source": [
    "for i in hptrain.columns:\n",
    "    j=0\n",
    "    while hptrain['MiscFeature'].isna()[j]:\n",
    "        j+=1    \n",
    "    if type(hptrain[i][j]) == str:\n",
    "        vc = hptrain[i].value_counts(dropna=False)\n",
    "        print(vc)"
   ]
  },
  {
   "cell_type": "code",
   "execution_count": 14,
   "metadata": {
    "scrolled": true
   },
   "outputs": [
    {
     "data": {
      "text/plain": [
       "NaN     1369\n",
       "Grvl      50\n",
       "Pave      41\n",
       "Name: Alley, dtype: int64"
      ]
     },
     "execution_count": 14,
     "metadata": {},
     "output_type": "execute_result"
    }
   ],
   "source": [
    "hptrain[\"Alley\"].value_counts(dropna = False)"
   ]
  },
  {
   "cell_type": "markdown",
   "metadata": {},
   "source": [
    "Remove: Street, Utilities.\n",
    "Maybe remove: Condition2, RoofMat1, Heating, MiscFeature"
   ]
  },
  {
   "cell_type": "code",
   "execution_count": 15,
   "metadata": {},
   "outputs": [],
   "source": [
    "hptrain = hptrain.drop([\"Street\",\"Utilities\"],axis = 1)\n",
    "hptest = hptest.drop([\"Street\",\"Utilities\"],axis = 1)"
   ]
  },
  {
   "cell_type": "code",
   "execution_count": 16,
   "metadata": {},
   "outputs": [],
   "source": [
    "test = hptrain['Fence'].replace(['GdPrv','MnPrv','GdWo','MnWw'],[0,1,2,3])"
   ]
  },
  {
   "cell_type": "code",
   "execution_count": 17,
   "metadata": {},
   "outputs": [],
   "source": [
    "test=test.fillna(test.mean())"
   ]
  },
  {
   "cell_type": "code",
   "execution_count": 18,
   "metadata": {
    "scrolled": true
   },
   "outputs": [],
   "source": [
    "trnAlley = hptrain[\"Alley\"].fillna(0).replace(['Grvl','Pave'],[1,2])\n",
    "tstAlley = hptest[\"Alley\"].fillna(0).replace(['Grvl','Pave'],[1,2])\n",
    "\n",
    "trnLotShape = hptrain[\"LotShape\"].replace(['Reg','IR1','IR2','IR3'],[0,1,2,3])\n",
    "tstLotShape = hptest[\"LotShape\"].replace(['Reg','IR1','IR2','IR3'],[0,1,2,3])\n",
    "\n",
    "trnLandSlope = hptrain[\"LandSlope\"].replace(['Gtl','Mod','Sev'],[0,1,2])\n",
    "tstLandSlope = hptest[\"LandSlope\"].replace(['Gtl','Mod','Sev'],[0,1,2])\n",
    "\n",
    "trnExterQual = hptrain['ExterQual'].replace(['Ex','Gd','TA','Fa','Po'],[0,1,2,3,4]).astype(int)\n",
    "tstExterQual = hptest['ExterQual'].replace(['Ex','Gd','TA','Fa','Po'],[0,1,2,3,4]).astype(int)\n",
    "\n",
    "trnExterCond = hptrain['ExterCond'].replace(['Ex','Gd','TA','Fa','Po'],[0,1,2,3,4])\n",
    "tstExterCond = hptest['ExterCond'].replace(['Ex','Gd','TA','Fa','Po'],[0,1,2,3,4])\n",
    "\n",
    "trnBsmtQual = hptrain['BsmtQual'].fillna(0).replace(['Ex','Gd','TA','Fa','Po'],[10,9,8,7,6]).astype(int)\n",
    "tstBsmtQual = hptest['BsmtQual'].fillna(0).replace(['Ex','Gd','TA','Fa','Po'],[10,9,8,7,6]).astype(int)\n",
    "\n",
    "trnBsmtCond = hptrain['BsmtCond'].fillna(2.5).replace(['Ex','Gd','TA','Fa','Po'],[0,1,2,3,4])\n",
    "tstBsmtCond = hptest['BsmtCond'].fillna(2.5).replace(['Ex','Gd','TA','Fa','Po'],[0,1,2,3,4])\n",
    "# unsure of the mapping here.\n",
    "# It may be better to have no basement than a poor basement\n",
    "\n",
    "trnBsmtExposure = hptrain['BsmtExposure'].fillna(3).replace(['Gd','Av','Mn','No'],[0,1,2,3])\n",
    "tstBsmtExposure = hptest['BsmtExposure'].fillna(3).replace(['Gd','Av','Mn','No'],[0,1,2,3])\n",
    "# What is the exposure level of no basement?\n",
    "\n",
    "trnBsmtFinType1 = hptrain['BsmtFinType1'].fillna(5).replace(['GLQ','ALQ','BLQ','Rec','LwQ','Unf'],[0,1,2,3,4,5])\n",
    "tstBsmtFinType1 = hptest['BsmtFinType1'].fillna(5).replace(['GLQ','ALQ','BLQ','Rec','LwQ','Unf'],[0,1,2,3,4,5])\n",
    "\n",
    "trnBsmtFinType2 = hptrain['BsmtFinType2'].fillna(5).replace(['GLQ','ALQ','BLQ','Rec','LwQ','Unf'],[0,1,2,3,4,5])\n",
    "tstBsmtFinType2 = hptest['BsmtFinType2'].fillna(5).replace(['GLQ','ALQ','BLQ','Rec','LwQ','Unf'],[0,1,2,3,4,5])\n",
    "\n",
    "trnHeatingQC = hptrain['HeatingQC'].replace(['Ex','Gd','TA','Fa','Po'],[0,1,2,3,4])\n",
    "tstHeatingQC = hptest['HeatingQC'].replace(['Ex','Gd','TA','Fa','Po'],[0,1,2,3,4])\n",
    "\n",
    "trnKitchenQual = hptrain['KitchenQual'].replace(['Ex','Gd','TA','Fa','Po'],[0,1,2,3,4]).astype(float)\n",
    "tstKitchenQual = hptest['KitchenQual'].replace(['Ex','Gd','TA','Fa','Po'],[0,1,2,3,4])\n",
    "tstKitchenQual = tstKitchenQual.fillna(tstKitchenQual.mean()).astype(float)\n",
    "\n",
    "trnFunctional = hptrain['Functional'].replace(['Typ','Min1','Min2','Mod','Maj1','Maj2','Sev','Sal'],[0,1,2,3,4,5,6,7]).astype(float)\n",
    "tstFunctional = hptest['Functional'].replace(['Typ','Min1','Min2','Mod','Maj1','Maj2','Sev','Sal'],[0,1,2,3,4,5,6,7])\n",
    "tstFunctional = tstFunctional.fillna(tstFunctional.mean()).astype(float)\n",
    "\n",
    "trnFireplaceQu = hptrain['FireplaceQu'].fillna(5).replace(['Ex','Gd','TA','Fa','Po'],[0,1,2,3,4])\n",
    "tstFireplaceQu = hptest['FireplaceQu'].fillna(5).replace(['Ex','Gd','TA','Fa','Po'],[0,1,2,3,4])\n",
    "\n",
    "trnGarageFinish = hptrain['GarageFinish'].fillna(3).replace(['Fin','RFn','Unf'],[0,1,2])\n",
    "tstGarageFinish = hptest['GarageFinish'].fillna(3).replace(['Fin','RFn','Unf'],[0,1,2])\n",
    "\n",
    "trnGarageQual = hptrain['GarageQual'].fillna(5).replace(['Ex','Gd','TA','Fa','Po'],[0,1,2,3,4])\n",
    "tstGarageQual = hptest['GarageQual'].fillna(5).replace(['Ex','Gd','TA','Fa','Po'],[0,1,2,3,4])\n",
    "\n",
    "trnGarageCond = hptrain['GarageCond'].fillna(5).replace(['Ex','Gd','TA','Fa','Po'],[0,1,2,3,4])\n",
    "tstGarageCond = hptest['GarageCond'].fillna(5).replace(['Ex','Gd','TA','Fa','Po'],[0,1,2,3,4])\n",
    "# This might be double penalizing houses without garages.\n",
    "# I may have done something similar for basements above.\n",
    "\n",
    "trnPavedDrive = hptrain['PavedDrive'].replace(['Y','P','N'],[0,1,2])\n",
    "tstPavedDrive = hptest['PavedDrive'].replace(['Y','P','N'],[0,1,2])\n",
    "\n",
    "trnPoolQC = hptrain['PoolQC'].fillna(4).replace(['Ex','Gd','TA','Fa'],[0,1,2,3]).astype(float)\n",
    "tstPoolQC = hptest['PoolQC'].fillna(4).replace(['Ex','Gd','TA','Fa'],[0,1,2,3])\n",
    "tstPoolQC = tstPoolQC.fillna(tstPoolQC.mean()).astype(float)\n",
    "\n",
    "trnFence = hptrain['Fence'].replace(['GdPrv','MnPrv','GdWo','MnWw'],[0,1,2,3])\n",
    "trnFence = trnFence.fillna(trnFence.mean())\n",
    "tstFence = hptest['Fence'].replace(['GdPrv','MnPrv','GdWo','MnWw'],[0,1,2,3])\n",
    "tstFence = tstFence.fillna(trnFence.mean())"
   ]
  },
  {
   "cell_type": "code",
   "execution_count": 19,
   "metadata": {},
   "outputs": [
    {
     "data": {
      "text/plain": [
       "0.000000    1357\n",
       "2.000000      36\n",
       "1.000000      34\n",
       "3.000000      20\n",
       "4.000000       5\n",
       "5.000000       4\n",
       "0.145504       2\n",
       "6.000000       1\n",
       "Name: Functional, dtype: int64"
      ]
     },
     "execution_count": 19,
     "metadata": {},
     "output_type": "execute_result"
    }
   ],
   "source": [
    "tstFunctional.value_counts(dropna = 0)"
   ]
  },
  {
   "cell_type": "markdown",
   "metadata": {},
   "source": [
    "## Concatenating all data together"
   ]
  },
  {
   "cell_type": "code",
   "execution_count": 20,
   "metadata": {},
   "outputs": [],
   "source": [
    "hpXtr = pd.concat([trnAlley,trnLotShape,trnLandSlope,trnExterQual,trnExterCond,trnBsmtQual,\n",
    "                   trnBsmtCond,trnBsmtExposure,trnBsmtFinType1,trnBsmtFinType2,trnHeatingQC,\n",
    "                   trnKitchenQual,trnFunctional,trnFireplaceQu,trnGarageFinish,trnGarageQual,\n",
    "                   trnGarageCond,trnPavedDrive,trnPoolQC,trnFence],axis = 1)\n",
    "hpXte = pd.concat([tstAlley,tstLotShape,tstLandSlope,tstExterQual,tstExterCond,tstBsmtQual,\n",
    "                   tstBsmtCond,tstBsmtExposure,tstBsmtFinType1,tstBsmtFinType2,tstHeatingQC,\n",
    "                   tstKitchenQual,tstFunctional,tstFireplaceQu,tstGarageFinish,tstGarageQual,\n",
    "                   tstGarageCond,tstPavedDrive,tstPoolQC,tstFence],axis = 1)"
   ]
  },
  {
   "cell_type": "code",
   "execution_count": 21,
   "metadata": {},
   "outputs": [],
   "source": [
    "hpXtr = pd.concat([hpXtr,hptrncat],axis = 1)\n",
    "hpXte = pd.concat([hpXte,hptstcat],axis = 1)"
   ]
  },
  {
   "cell_type": "code",
   "execution_count": 22,
   "metadata": {},
   "outputs": [],
   "source": [
    "hptrainN = hptrain.drop(['MSSubClass','MSZoning','LandContour',\"LotConfig\",\"Neighborhood\",\"Condition1\",\n",
    "                   \"Condition2\",\"BldgType\",\"HouseStyle\",\"RoofStyle\",\"RoofMatl\", \"Exterior1st\",\n",
    "                   \"Exterior2nd\",\"MasVnrType\",\"Foundation\",\"Heating\",\"CentralAir\",\"Electrical\",\n",
    "                   \"GarageType\",\"MiscFeature\",\"SaleType\",\"SaleCondition\",'Alley','LotShape','LandSlope',\n",
    "                   'ExterQual','ExterCond','BsmtQual','BsmtCond','BsmtExposure','BsmtFinType1','BsmtFinType2','HeatingQC',\n",
    "                   'KitchenQual','Functional','FireplaceQu','GarageFinish','GarageQual','GarageCond',\n",
    "                   'PavedDrive','PoolQC','Fence'],axis = 1);\n",
    "hptestN = hptrain.drop(['MSSubClass','MSZoning','LandContour',\"LotConfig\",\"Neighborhood\",\"Condition1\",\n",
    "                   \"Condition2\",\"BldgType\",\"HouseStyle\",\"RoofStyle\",\"RoofMatl\", \"Exterior1st\",\n",
    "                   \"Exterior2nd\",\"MasVnrType\",\"Foundation\",\"Heating\",\"CentralAir\",\"Electrical\",\n",
    "                   \"GarageType\",\"MiscFeature\",\"SaleType\",\"SaleCondition\",'Alley','LotShape','LandSlope',\n",
    "                   'ExterQual','ExterCond','BsmtQual','BsmtCond','BsmtExposure','BsmtFinType1','BsmtFinType2','HeatingQC',\n",
    "                   'KitchenQual','Functional','FireplaceQu','GarageFinish','GarageQual','GarageCond',\n",
    "                   'PavedDrive','PoolQC','Fence'],axis = 1);"
   ]
  },
  {
   "cell_type": "code",
   "execution_count": 23,
   "metadata": {},
   "outputs": [],
   "source": [
    "hpXtr = pd.concat([hpXtr,hptrainN],axis = 1)\n",
    "hpXte = pd.concat([hpXte,hptestN],axis = 1)"
   ]
  },
  {
   "cell_type": "code",
   "execution_count": 32,
   "metadata": {},
   "outputs": [
    {
     "data": {
      "text/plain": [
       "254"
      ]
     },
     "execution_count": 32,
     "metadata": {},
     "output_type": "execute_result"
    }
   ],
   "source": [
    "hpXtr.dtypes.size"
   ]
  },
  {
   "cell_type": "code",
   "execution_count": 33,
   "metadata": {},
   "outputs": [
    {
     "data": {
      "text/plain": [
       "240"
      ]
     },
     "execution_count": 33,
     "metadata": {},
     "output_type": "execute_result"
    }
   ],
   "source": [
    "hpXte.dtypes.size"
   ]
  },
  {
   "cell_type": "code",
   "execution_count": 37,
   "metadata": {},
   "outputs": [
    {
     "data": {
      "text/plain": [
       "{'Condition2_RRAe',\n",
       " 'Condition2_RRAn',\n",
       " 'Condition2_RRNn',\n",
       " 'Electrical_Mix',\n",
       " 'Exterior1st_ImStucc',\n",
       " 'Exterior1st_Stone',\n",
       " 'Exterior2nd_Other',\n",
       " 'Heating_Floor',\n",
       " 'Heating_OthW',\n",
       " 'HouseStyle_2.5Fin',\n",
       " 'MiscFeature_TenC',\n",
       " 'RoofMatl_ClyTile',\n",
       " 'RoofMatl_Membran',\n",
       " 'RoofMatl_Metal',\n",
       " 'RoofMatl_Roll'}"
      ]
     },
     "execution_count": 37,
     "metadata": {},
     "output_type": "execute_result"
    }
   ],
   "source": [
    "set(hpXtr.columns).difference(set(hpXte.columns))"
   ]
  },
  {
   "cell_type": "code",
   "execution_count": 38,
   "metadata": {},
   "outputs": [
    {
     "data": {
      "text/plain": [
       "{'MSSubClass_150'}"
      ]
     },
     "execution_count": 38,
     "metadata": {},
     "output_type": "execute_result"
    }
   ],
   "source": [
    "set(hpXte.columns).difference(set(hpXtr.columns))"
   ]
  }
 ],
 "metadata": {
  "kernelspec": {
   "display_name": "Python 3",
   "language": "python",
   "name": "python3"
  },
  "language_info": {
   "codemirror_mode": {
    "name": "ipython",
    "version": 3
   },
   "file_extension": ".py",
   "mimetype": "text/x-python",
   "name": "python",
   "nbconvert_exporter": "python",
   "pygments_lexer": "ipython3",
   "version": "3.7.4"
  }
 },
 "nbformat": 4,
 "nbformat_minor": 2
}
